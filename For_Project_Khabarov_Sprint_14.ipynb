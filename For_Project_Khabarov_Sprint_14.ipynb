{
 "cells": [
  {
   "cell_type": "markdown",
   "metadata": {
    "toc": true
   },
   "source": [
    "<h1>Содержание<span class=\"tocSkip\"></span></h1>\n",
    "<div class=\"toc\"><ul class=\"toc-item\"><li><span><a href=\"#Подготовка-данных\" data-toc-modified-id=\"Подготовка-данных-1\"><span class=\"toc-item-num\">1&nbsp;&nbsp;</span>Подготовка данных</a></span></li><li><span><a href=\"#Исследование-задачи\" data-toc-modified-id=\"Исследование-задачи-2\"><span class=\"toc-item-num\">2&nbsp;&nbsp;</span>Исследование задачи</a></span></li><li><span><a href=\"#Борьба-с-дисбалансом\" data-toc-modified-id=\"Борьба-с-дисбалансом-3\"><span class=\"toc-item-num\">3&nbsp;&nbsp;</span>Борьба с дисбалансом</a></span></li><li><span><a href=\"#Тестирование-модели\" data-toc-modified-id=\"Тестирование-модели-4\"><span class=\"toc-item-num\">4&nbsp;&nbsp;</span>Тестирование модели</a></span></li><li><span><a href=\"#Исследование-задачи\" data-toc-modified-id=\"Исследование-задачи-5\"><span class=\"toc-item-num\">5&nbsp;&nbsp;</span>Исследование задачи</a></span><ul class=\"toc-item\"><li><span><a href=\"#Обучаем-дерево.\" data-toc-modified-id=\"Обучаем-дерево.-5.1\"><span class=\"toc-item-num\">5.1&nbsp;&nbsp;</span>Обучаем дерево.</a></span></li><li><span><a href=\"#Обучаем-случайный-лес.\" data-toc-modified-id=\"Обучаем-случайный-лес.-5.2\"><span class=\"toc-item-num\">5.2&nbsp;&nbsp;</span>Обучаем случайный лес.</a></span></li><li><span><a href=\"#Обучаем-логистическую-регрессию.\" data-toc-modified-id=\"Обучаем-логистическую-регрессию.-5.3\"><span class=\"toc-item-num\">5.3&nbsp;&nbsp;</span>Обучаем логистическую регрессию.</a></span></li><li><span><a href=\"#Борьба-с-дисбалансом.\" data-toc-modified-id=\"Борьба-с-дисбалансом.-5.4\"><span class=\"toc-item-num\">5.4&nbsp;&nbsp;</span>Борьба с дисбалансом.</a></span></li><li><span><a href=\"#Тестирование.\" data-toc-modified-id=\"Тестирование.-5.5\"><span class=\"toc-item-num\">5.5&nbsp;&nbsp;</span>Тестирование.</a></span></li></ul></li></ul></div>"
   ]
  },
  {
   "cell_type": "markdown",
   "metadata": {},
   "source": [
    "# Отток клиентов"
   ]
  },
  {
   "cell_type": "markdown",
   "metadata": {},
   "source": [
    "Из «Бета-Банка» стали уходить клиенты. Каждый месяц. Немного, но заметно. Банковские маркетологи посчитали: сохранять текущих клиентов дешевле, чем привлекать новых.\n",
    "\n",
    "Нужно спрогнозировать, уйдёт клиент из банка в ближайшее время или нет. Вам предоставлены исторические данные о поведении клиентов и расторжении договоров с банком. \n",
    "\n",
    "Постройте модель с предельно большим значением *F1*-меры. Чтобы сдать проект успешно, нужно довести метрику до 0.59. Проверьте *F1*-меру на тестовой выборке самостоятельно.\n",
    "\n",
    "Дополнительно измеряйте *AUC-ROC*, сравнивайте её значение с *F1*-мерой.\n",
    "\n",
    "Источник данных: [https://www.kaggle.com/barelydedicated/bank-customer-churn-modeling](https://www.kaggle.com/barelydedicated/bank-customer-churn-modeling)"
   ]
  },
  {
   "cell_type": "markdown",
   "metadata": {},
   "source": [
    "## Подготовка данных"
   ]
  },
  {
   "cell_type": "code",
   "execution_count": 208,
   "metadata": {},
   "outputs": [],
   "source": [
    "import pandas as pd\n",
    "import matplotlib.pyplot as plt\n",
    "from sklearn.linear_model import LogisticRegression\n",
    "from sklearn.tree import DecisionTreeClassifier\n",
    "from sklearn.ensemble import RandomForestClassifier\n",
    "from sklearn.model_selection import train_test_split\n",
    "from sklearn.metrics import accuracy_score\n",
    "from sklearn.model_selection import GridSearchCV\n",
    "from sklearn.metrics import f1_score\n",
    "from sklearn.metrics import roc_auc_score\n",
    "from sklearn.utils import shuffle"
   ]
  },
  {
   "cell_type": "code",
   "execution_count": 209,
   "metadata": {},
   "outputs": [
    {
     "data": {
      "text/html": [
       "<div>\n",
       "<style scoped>\n",
       "    .dataframe tbody tr th:only-of-type {\n",
       "        vertical-align: middle;\n",
       "    }\n",
       "\n",
       "    .dataframe tbody tr th {\n",
       "        vertical-align: top;\n",
       "    }\n",
       "\n",
       "    .dataframe thead th {\n",
       "        text-align: right;\n",
       "    }\n",
       "</style>\n",
       "<table border=\"1\" class=\"dataframe\">\n",
       "  <thead>\n",
       "    <tr style=\"text-align: right;\">\n",
       "      <th></th>\n",
       "      <th>RowNumber</th>\n",
       "      <th>CustomerId</th>\n",
       "      <th>Surname</th>\n",
       "      <th>CreditScore</th>\n",
       "      <th>Geography</th>\n",
       "      <th>Gender</th>\n",
       "      <th>Age</th>\n",
       "      <th>Tenure</th>\n",
       "      <th>Balance</th>\n",
       "      <th>NumOfProducts</th>\n",
       "      <th>HasCrCard</th>\n",
       "      <th>IsActiveMember</th>\n",
       "      <th>EstimatedSalary</th>\n",
       "      <th>Exited</th>\n",
       "    </tr>\n",
       "  </thead>\n",
       "  <tbody>\n",
       "    <tr>\n",
       "      <th>0</th>\n",
       "      <td>1</td>\n",
       "      <td>15634602</td>\n",
       "      <td>Hargrave</td>\n",
       "      <td>619</td>\n",
       "      <td>France</td>\n",
       "      <td>Female</td>\n",
       "      <td>42</td>\n",
       "      <td>2.0</td>\n",
       "      <td>0.00</td>\n",
       "      <td>1</td>\n",
       "      <td>1</td>\n",
       "      <td>1</td>\n",
       "      <td>101348.88</td>\n",
       "      <td>1</td>\n",
       "    </tr>\n",
       "    <tr>\n",
       "      <th>1</th>\n",
       "      <td>2</td>\n",
       "      <td>15647311</td>\n",
       "      <td>Hill</td>\n",
       "      <td>608</td>\n",
       "      <td>Spain</td>\n",
       "      <td>Female</td>\n",
       "      <td>41</td>\n",
       "      <td>1.0</td>\n",
       "      <td>83807.86</td>\n",
       "      <td>1</td>\n",
       "      <td>0</td>\n",
       "      <td>1</td>\n",
       "      <td>112542.58</td>\n",
       "      <td>0</td>\n",
       "    </tr>\n",
       "    <tr>\n",
       "      <th>2</th>\n",
       "      <td>3</td>\n",
       "      <td>15619304</td>\n",
       "      <td>Onio</td>\n",
       "      <td>502</td>\n",
       "      <td>France</td>\n",
       "      <td>Female</td>\n",
       "      <td>42</td>\n",
       "      <td>8.0</td>\n",
       "      <td>159660.80</td>\n",
       "      <td>3</td>\n",
       "      <td>1</td>\n",
       "      <td>0</td>\n",
       "      <td>113931.57</td>\n",
       "      <td>1</td>\n",
       "    </tr>\n",
       "  </tbody>\n",
       "</table>\n",
       "</div>"
      ],
      "text/plain": [
       "   RowNumber  CustomerId   Surname  CreditScore Geography  Gender  Age  \\\n",
       "0          1    15634602  Hargrave          619    France  Female   42   \n",
       "1          2    15647311      Hill          608     Spain  Female   41   \n",
       "2          3    15619304      Onio          502    France  Female   42   \n",
       "\n",
       "   Tenure    Balance  NumOfProducts  HasCrCard  IsActiveMember  \\\n",
       "0     2.0       0.00              1          1               1   \n",
       "1     1.0   83807.86              1          0               1   \n",
       "2     8.0  159660.80              3          1               0   \n",
       "\n",
       "   EstimatedSalary  Exited  \n",
       "0        101348.88       1  \n",
       "1        112542.58       0  \n",
       "2        113931.57       1  "
      ]
     },
     "execution_count": 209,
     "metadata": {},
     "output_type": "execute_result"
    }
   ],
   "source": [
    "try:\n",
    "    data = pd.read_csv('Churn.csv')\n",
    "except:\n",
    "    data = pd.read_csv('/datasets/Churn.csv')\n",
    "data.head(3)"
   ]
  },
  {
   "cell_type": "markdown",
   "metadata": {},
   "source": [
    "Целевой признак:\n",
    "- Exited — факт ухода клиента  \n",
    "  \n",
    "Признаки:\n",
    "- RowNumber — индекс строки в данных\n",
    "- CustomerId — уникальный идентификатор клиента\n",
    "- Surname — фамилия\n",
    "- CreditScore — кредитный рейтинг\n",
    "- Geography — страна проживания\n",
    "- Gender — пол\n",
    "- Age — возраст\n",
    "- Tenure — сколько лет человек является клиентом банка\n",
    "- Balance — баланс на счёте\n",
    "- NumOfProducts — количество продуктов банка, используемых клиентом\n",
    "- HasCrCard — наличие кредитной карты\n",
    "- IsActiveMember — активность клиента\n",
    "- EstimatedSalary — предполагаемая зарплата"
   ]
  },
  {
   "cell_type": "markdown",
   "metadata": {},
   "source": [
    "Взглянем на данные в целом."
   ]
  },
  {
   "cell_type": "code",
   "execution_count": 210,
   "metadata": {},
   "outputs": [
    {
     "name": "stdout",
     "output_type": "stream",
     "text": [
      "<class 'pandas.core.frame.DataFrame'>\n",
      "RangeIndex: 10000 entries, 0 to 9999\n",
      "Data columns (total 14 columns):\n",
      " #   Column           Non-Null Count  Dtype  \n",
      "---  ------           --------------  -----  \n",
      " 0   RowNumber        10000 non-null  int64  \n",
      " 1   CustomerId       10000 non-null  int64  \n",
      " 2   Surname          10000 non-null  object \n",
      " 3   CreditScore      10000 non-null  int64  \n",
      " 4   Geography        10000 non-null  object \n",
      " 5   Gender           10000 non-null  object \n",
      " 6   Age              10000 non-null  int64  \n",
      " 7   Tenure           9091 non-null   float64\n",
      " 8   Balance          10000 non-null  float64\n",
      " 9   NumOfProducts    10000 non-null  int64  \n",
      " 10  HasCrCard        10000 non-null  int64  \n",
      " 11  IsActiveMember   10000 non-null  int64  \n",
      " 12  EstimatedSalary  10000 non-null  float64\n",
      " 13  Exited           10000 non-null  int64  \n",
      "dtypes: float64(3), int64(8), object(3)\n",
      "memory usage: 1.1+ MB\n"
     ]
    }
   ],
   "source": [
    "data.info()"
   ]
  },
  {
   "cell_type": "markdown",
   "metadata": {},
   "source": [
    "Есть пропуски в Tenure. Так же есть поля типа object. Это Фамилия, страна и пол. Посмотрим на эти поля внимательнее."
   ]
  },
  {
   "cell_type": "code",
   "execution_count": 211,
   "metadata": {},
   "outputs": [
    {
     "data": {
      "text/plain": [
       "Smith       32\n",
       "Scott       29\n",
       "Martin      29\n",
       "Walker      28\n",
       "Brown       26\n",
       "            ..\n",
       "Izmailov     1\n",
       "Bold         1\n",
       "Bonham       1\n",
       "Poninski     1\n",
       "Burbidge     1\n",
       "Name: Surname, Length: 2932, dtype: int64"
      ]
     },
     "execution_count": 211,
     "metadata": {},
     "output_type": "execute_result"
    }
   ],
   "source": [
    "data['Surname']. value_counts()"
   ]
  },
  {
   "cell_type": "markdown",
   "metadata": {},
   "source": [
    "2932 уникальных и множество повторов с общим количеством повторов для каждого уникального не превышаеющее 32-х. Картина вполне ожидаемая. Есть частые фамилии есть редкие. Если мы не исследуем задачу влияния какой-то предвзятости сотрудников банка и предполагаем, что фамилии случайны, то этот столбец нам бесполезен. Просто удалим его."
   ]
  },
  {
   "cell_type": "code",
   "execution_count": 212,
   "metadata": {},
   "outputs": [
    {
     "data": {
      "text/plain": [
       "France     5014\n",
       "Germany    2509\n",
       "Spain      2477\n",
       "Name: Geography, dtype: int64"
      ]
     },
     "execution_count": 212,
     "metadata": {},
     "output_type": "execute_result"
    }
   ],
   "source": [
    "data['Geography']. value_counts()"
   ]
  },
  {
   "cell_type": "code",
   "execution_count": 213,
   "metadata": {},
   "outputs": [
    {
     "data": {
      "text/plain": [
       "Male      5457\n",
       "Female    4543\n",
       "Name: Gender, dtype: int64"
      ]
     },
     "execution_count": 213,
     "metadata": {},
     "output_type": "execute_result"
    }
   ],
   "source": [
    "data['Gender']. value_counts()"
   ]
  },
  {
   "cell_type": "markdown",
   "metadata": {},
   "source": [
    "Значений не много. Закодируем их методом OHE."
   ]
  },
  {
   "cell_type": "markdown",
   "metadata": {},
   "source": [
    "Теперь подумаем что делать со столбцом Tenure. Для этого посмотрим на дисбаланс в пропущеных значениях и не пропущеных. посмотрим на средние. Взглянем на кореляции этого столбца с остальными."
   ]
  },
  {
   "cell_type": "code",
   "execution_count": 214,
   "metadata": {},
   "outputs": [
    {
     "data": {
      "text/html": [
       "<div>\n",
       "<style scoped>\n",
       "    .dataframe tbody tr th:only-of-type {\n",
       "        vertical-align: middle;\n",
       "    }\n",
       "\n",
       "    .dataframe tbody tr th {\n",
       "        vertical-align: top;\n",
       "    }\n",
       "\n",
       "    .dataframe thead th {\n",
       "        text-align: right;\n",
       "    }\n",
       "</style>\n",
       "<table border=\"1\" class=\"dataframe\">\n",
       "  <thead>\n",
       "    <tr style=\"text-align: right;\">\n",
       "      <th></th>\n",
       "      <th>All</th>\n",
       "      <th>isna</th>\n",
       "      <th>notisna</th>\n",
       "    </tr>\n",
       "  </thead>\n",
       "  <tbody>\n",
       "    <tr>\n",
       "      <th>count</th>\n",
       "      <td>10000.000000</td>\n",
       "      <td>909.000000</td>\n",
       "      <td>9091.000000</td>\n",
       "    </tr>\n",
       "    <tr>\n",
       "      <th>mean</th>\n",
       "      <td>0.203700</td>\n",
       "      <td>0.201320</td>\n",
       "      <td>0.203938</td>\n",
       "    </tr>\n",
       "    <tr>\n",
       "      <th>std</th>\n",
       "      <td>0.402769</td>\n",
       "      <td>0.401207</td>\n",
       "      <td>0.402946</td>\n",
       "    </tr>\n",
       "    <tr>\n",
       "      <th>min</th>\n",
       "      <td>0.000000</td>\n",
       "      <td>0.000000</td>\n",
       "      <td>0.000000</td>\n",
       "    </tr>\n",
       "    <tr>\n",
       "      <th>25%</th>\n",
       "      <td>0.000000</td>\n",
       "      <td>0.000000</td>\n",
       "      <td>0.000000</td>\n",
       "    </tr>\n",
       "    <tr>\n",
       "      <th>50%</th>\n",
       "      <td>0.000000</td>\n",
       "      <td>0.000000</td>\n",
       "      <td>0.000000</td>\n",
       "    </tr>\n",
       "    <tr>\n",
       "      <th>75%</th>\n",
       "      <td>0.000000</td>\n",
       "      <td>0.000000</td>\n",
       "      <td>0.000000</td>\n",
       "    </tr>\n",
       "    <tr>\n",
       "      <th>max</th>\n",
       "      <td>1.000000</td>\n",
       "      <td>1.000000</td>\n",
       "      <td>1.000000</td>\n",
       "    </tr>\n",
       "  </tbody>\n",
       "</table>\n",
       "</div>"
      ],
      "text/plain": [
       "                All        isna      notisna\n",
       "count  10000.000000  909.000000  9091.000000\n",
       "mean       0.203700    0.201320     0.203938\n",
       "std        0.402769    0.401207     0.402946\n",
       "min        0.000000    0.000000     0.000000\n",
       "25%        0.000000    0.000000     0.000000\n",
       "50%        0.000000    0.000000     0.000000\n",
       "75%        0.000000    0.000000     0.000000\n",
       "max        1.000000    1.000000     1.000000"
      ]
     },
     "execution_count": 214,
     "metadata": {},
     "output_type": "execute_result"
    }
   ],
   "source": [
    "mlist = {'All':data['Exited'].describe(),\n",
    "         'isna':data[data['Tenure'].isna()]['Exited'].describe(), \n",
    "         'notisna':data[~data['Tenure'].isna()]['Exited'].describe()}\n",
    "pd.DataFrame(mlist)"
   ]
  },
  {
   "cell_type": "code",
   "execution_count": 215,
   "metadata": {},
   "outputs": [
    {
     "data": {
      "text/html": [
       "<div>\n",
       "<style scoped>\n",
       "    .dataframe tbody tr th:only-of-type {\n",
       "        vertical-align: middle;\n",
       "    }\n",
       "\n",
       "    .dataframe tbody tr th {\n",
       "        vertical-align: top;\n",
       "    }\n",
       "\n",
       "    .dataframe thead th {\n",
       "        text-align: right;\n",
       "    }\n",
       "</style>\n",
       "<table border=\"1\" class=\"dataframe\">\n",
       "  <thead>\n",
       "    <tr style=\"text-align: right;\">\n",
       "      <th></th>\n",
       "      <th>index</th>\n",
       "      <th>Tenure</th>\n",
       "    </tr>\n",
       "  </thead>\n",
       "  <tbody>\n",
       "    <tr>\n",
       "      <th>0</th>\n",
       "      <td>count</td>\n",
       "      <td>9091.000000</td>\n",
       "    </tr>\n",
       "    <tr>\n",
       "      <th>1</th>\n",
       "      <td>mean</td>\n",
       "      <td>4.997690</td>\n",
       "    </tr>\n",
       "    <tr>\n",
       "      <th>2</th>\n",
       "      <td>std</td>\n",
       "      <td>2.894723</td>\n",
       "    </tr>\n",
       "    <tr>\n",
       "      <th>3</th>\n",
       "      <td>min</td>\n",
       "      <td>0.000000</td>\n",
       "    </tr>\n",
       "    <tr>\n",
       "      <th>4</th>\n",
       "      <td>25%</td>\n",
       "      <td>2.000000</td>\n",
       "    </tr>\n",
       "    <tr>\n",
       "      <th>5</th>\n",
       "      <td>50%</td>\n",
       "      <td>5.000000</td>\n",
       "    </tr>\n",
       "    <tr>\n",
       "      <th>6</th>\n",
       "      <td>75%</td>\n",
       "      <td>7.000000</td>\n",
       "    </tr>\n",
       "    <tr>\n",
       "      <th>7</th>\n",
       "      <td>max</td>\n",
       "      <td>10.000000</td>\n",
       "    </tr>\n",
       "  </tbody>\n",
       "</table>\n",
       "</div>"
      ],
      "text/plain": [
       "   index       Tenure\n",
       "0  count  9091.000000\n",
       "1   mean     4.997690\n",
       "2    std     2.894723\n",
       "3    min     0.000000\n",
       "4    25%     2.000000\n",
       "5    50%     5.000000\n",
       "6    75%     7.000000\n",
       "7    max    10.000000"
      ]
     },
     "execution_count": 215,
     "metadata": {},
     "output_type": "execute_result"
    }
   ],
   "source": [
    "data['Tenure'].describe(). reset_index()"
   ]
  },
  {
   "cell_type": "markdown",
   "metadata": {},
   "source": [
    "В пропущеных дисбаланс слегка больше, но можно сказать что пропущеные в этом смысле не влияют на результат."
   ]
  },
  {
   "cell_type": "code",
   "execution_count": 216,
   "metadata": {},
   "outputs": [
    {
     "data": {
      "text/html": [
       "<div>\n",
       "<style scoped>\n",
       "    .dataframe tbody tr th:only-of-type {\n",
       "        vertical-align: middle;\n",
       "    }\n",
       "\n",
       "    .dataframe tbody tr th {\n",
       "        vertical-align: top;\n",
       "    }\n",
       "\n",
       "    .dataframe thead th {\n",
       "        text-align: right;\n",
       "    }\n",
       "</style>\n",
       "<table border=\"1\" class=\"dataframe\">\n",
       "  <thead>\n",
       "    <tr style=\"text-align: right;\">\n",
       "      <th></th>\n",
       "      <th>index</th>\n",
       "      <th>Tenure</th>\n",
       "    </tr>\n",
       "  </thead>\n",
       "  <tbody>\n",
       "    <tr>\n",
       "      <th>0</th>\n",
       "      <td>RowNumber</td>\n",
       "      <td>-0.007322</td>\n",
       "    </tr>\n",
       "    <tr>\n",
       "      <th>1</th>\n",
       "      <td>CustomerId</td>\n",
       "      <td>-0.021418</td>\n",
       "    </tr>\n",
       "    <tr>\n",
       "      <th>2</th>\n",
       "      <td>CreditScore</td>\n",
       "      <td>-0.000062</td>\n",
       "    </tr>\n",
       "    <tr>\n",
       "      <th>3</th>\n",
       "      <td>Age</td>\n",
       "      <td>-0.013134</td>\n",
       "    </tr>\n",
       "    <tr>\n",
       "      <th>4</th>\n",
       "      <td>Tenure</td>\n",
       "      <td>1.000000</td>\n",
       "    </tr>\n",
       "    <tr>\n",
       "      <th>5</th>\n",
       "      <td>Balance</td>\n",
       "      <td>-0.007911</td>\n",
       "    </tr>\n",
       "    <tr>\n",
       "      <th>6</th>\n",
       "      <td>NumOfProducts</td>\n",
       "      <td>0.011979</td>\n",
       "    </tr>\n",
       "    <tr>\n",
       "      <th>7</th>\n",
       "      <td>HasCrCard</td>\n",
       "      <td>0.027232</td>\n",
       "    </tr>\n",
       "    <tr>\n",
       "      <th>8</th>\n",
       "      <td>IsActiveMember</td>\n",
       "      <td>-0.032178</td>\n",
       "    </tr>\n",
       "    <tr>\n",
       "      <th>9</th>\n",
       "      <td>EstimatedSalary</td>\n",
       "      <td>0.010520</td>\n",
       "    </tr>\n",
       "    <tr>\n",
       "      <th>10</th>\n",
       "      <td>Exited</td>\n",
       "      <td>-0.016761</td>\n",
       "    </tr>\n",
       "  </tbody>\n",
       "</table>\n",
       "</div>"
      ],
      "text/plain": [
       "              index    Tenure\n",
       "0         RowNumber -0.007322\n",
       "1        CustomerId -0.021418\n",
       "2       CreditScore -0.000062\n",
       "3               Age -0.013134\n",
       "4            Tenure  1.000000\n",
       "5           Balance -0.007911\n",
       "6     NumOfProducts  0.011979\n",
       "7         HasCrCard  0.027232\n",
       "8    IsActiveMember -0.032178\n",
       "9   EstimatedSalary  0.010520\n",
       "10           Exited -0.016761"
      ]
     },
     "execution_count": 216,
     "metadata": {},
     "output_type": "execute_result"
    }
   ],
   "source": [
    "data.corr()['Tenure']. reset_index()"
   ]
  },
  {
   "cell_type": "code",
   "execution_count": 217,
   "metadata": {},
   "outputs": [
    {
     "data": {
      "image/png": "[encoded data removed]",
      "text/plain": [
       "<Figure size 1080x1080 with 121 Axes>"
      ]
     },
     "metadata": {
      "needs_background": "light"
     },
     "output_type": "display_data"
    }
   ],
   "source": [
    "pd.plotting.scatter_matrix(data, figsize = (15,15));\n",
    "plt.show()"
   ]
  },
  {
   "cell_type": "code",
   "execution_count": 218,
   "metadata": {},
   "outputs": [
    {
     "data": {
      "image/png": "[encoded data removed]",
      "text/plain": [
       "<Figure size 1080x1080 with 12 Axes>"
      ]
     },
     "metadata": {
      "needs_background": "light"
     },
     "output_type": "display_data"
    }
   ],
   "source": [
    "data.hist(figsize=(15,15));"
   ]
  },
  {
   "cell_type": "markdown",
   "metadata": {},
   "source": [
    "Никаких кореляций, странностей или чего то ещё не вижу. Данные кажутся абсолютно равномерно распределенными относительно остальных столбцов. По идее можно было бы заполнить средним. Но любое создание отсутствующих данных это фантазия аналитика. Можно было бы пообучать модель для заполнения этих пропусков, но пока тупо удалим."
   ]
  },
  {
   "cell_type": "code",
   "execution_count": 219,
   "metadata": {},
   "outputs": [
    {
     "name": "stdout",
     "output_type": "stream",
     "text": [
      "<class 'pandas.core.frame.DataFrame'>\n",
      "Int64Index: 9091 entries, 0 to 9998\n",
      "Data columns (total 13 columns):\n",
      " #   Column           Non-Null Count  Dtype  \n",
      "---  ------           --------------  -----  \n",
      " 0   RowNumber        9091 non-null   int64  \n",
      " 1   CustomerId       9091 non-null   int64  \n",
      " 2   CreditScore      9091 non-null   int64  \n",
      " 3   Geography        9091 non-null   object \n",
      " 4   Gender           9091 non-null   object \n",
      " 5   Age              9091 non-null   int64  \n",
      " 6   Tenure           9091 non-null   float64\n",
      " 7   Balance          9091 non-null   float64\n",
      " 8   NumOfProducts    9091 non-null   int64  \n",
      " 9   HasCrCard        9091 non-null   int64  \n",
      " 10  IsActiveMember   9091 non-null   int64  \n",
      " 11  EstimatedSalary  9091 non-null   float64\n",
      " 12  Exited           9091 non-null   int64  \n",
      "dtypes: float64(3), int64(8), object(2)\n",
      "memory usage: 994.3+ KB\n"
     ]
    }
   ],
   "source": [
    "data = data.dropna()\n",
    "data = data.drop(['Surname'], axis=1)\n",
    "data. reset_index()\n",
    "data. info()"
   ]
  },
  {
   "cell_type": "code",
   "execution_count": 220,
   "metadata": {},
   "outputs": [
    {
     "data": {
      "text/html": [
       "<div>\n",
       "<style scoped>\n",
       "    .dataframe tbody tr th:only-of-type {\n",
       "        vertical-align: middle;\n",
       "    }\n",
       "\n",
       "    .dataframe tbody tr th {\n",
       "        vertical-align: top;\n",
       "    }\n",
       "\n",
       "    .dataframe thead th {\n",
       "        text-align: right;\n",
       "    }\n",
       "</style>\n",
       "<table border=\"1\" class=\"dataframe\">\n",
       "  <thead>\n",
       "    <tr style=\"text-align: right;\">\n",
       "      <th></th>\n",
       "      <th>RowNumber</th>\n",
       "      <th>CustomerId</th>\n",
       "      <th>CreditScore</th>\n",
       "      <th>Age</th>\n",
       "      <th>Tenure</th>\n",
       "      <th>Balance</th>\n",
       "      <th>NumOfProducts</th>\n",
       "      <th>HasCrCard</th>\n",
       "      <th>IsActiveMember</th>\n",
       "      <th>EstimatedSalary</th>\n",
       "      <th>Exited</th>\n",
       "      <th>Geography_Germany</th>\n",
       "      <th>Geography_Spain</th>\n",
       "      <th>Gender_Male</th>\n",
       "    </tr>\n",
       "  </thead>\n",
       "  <tbody>\n",
       "    <tr>\n",
       "      <th>0</th>\n",
       "      <td>1</td>\n",
       "      <td>15634602</td>\n",
       "      <td>619</td>\n",
       "      <td>42</td>\n",
       "      <td>2.0</td>\n",
       "      <td>0.00</td>\n",
       "      <td>1</td>\n",
       "      <td>1</td>\n",
       "      <td>1</td>\n",
       "      <td>101348.88</td>\n",
       "      <td>1</td>\n",
       "      <td>0</td>\n",
       "      <td>0</td>\n",
       "      <td>0</td>\n",
       "    </tr>\n",
       "    <tr>\n",
       "      <th>1</th>\n",
       "      <td>2</td>\n",
       "      <td>15647311</td>\n",
       "      <td>608</td>\n",
       "      <td>41</td>\n",
       "      <td>1.0</td>\n",
       "      <td>83807.86</td>\n",
       "      <td>1</td>\n",
       "      <td>0</td>\n",
       "      <td>1</td>\n",
       "      <td>112542.58</td>\n",
       "      <td>0</td>\n",
       "      <td>0</td>\n",
       "      <td>1</td>\n",
       "      <td>0</td>\n",
       "    </tr>\n",
       "    <tr>\n",
       "      <th>2</th>\n",
       "      <td>3</td>\n",
       "      <td>15619304</td>\n",
       "      <td>502</td>\n",
       "      <td>42</td>\n",
       "      <td>8.0</td>\n",
       "      <td>159660.80</td>\n",
       "      <td>3</td>\n",
       "      <td>1</td>\n",
       "      <td>0</td>\n",
       "      <td>113931.57</td>\n",
       "      <td>1</td>\n",
       "      <td>0</td>\n",
       "      <td>0</td>\n",
       "      <td>0</td>\n",
       "    </tr>\n",
       "  </tbody>\n",
       "</table>\n",
       "</div>"
      ],
      "text/plain": [
       "   RowNumber  CustomerId  CreditScore  Age  Tenure    Balance  NumOfProducts  \\\n",
       "0          1    15634602          619   42     2.0       0.00              1   \n",
       "1          2    15647311          608   41     1.0   83807.86              1   \n",
       "2          3    15619304          502   42     8.0  159660.80              3   \n",
       "\n",
       "   HasCrCard  IsActiveMember  EstimatedSalary  Exited  Geography_Germany  \\\n",
       "0          1               1        101348.88       1                  0   \n",
       "1          0               1        112542.58       0                  0   \n",
       "2          1               0        113931.57       1                  0   \n",
       "\n",
       "   Geography_Spain  Gender_Male  \n",
       "0                0            0  \n",
       "1                1            0  \n",
       "2                0            0  "
      ]
     },
     "execution_count": 220,
     "metadata": {},
     "output_type": "execute_result"
    }
   ],
   "source": [
    "data = pd.concat(\n",
    "    [data,pd.get_dummies(data[['Geography','Gender']], drop_first=True)], axis=1, join='inner')\n",
    "data = data.drop(['Geography','Gender'], axis=1)\n",
    "data.head(3)"
   ]
  },
  {
   "cell_type": "code",
   "execution_count": 221,
   "metadata": {},
   "outputs": [
    {
     "name": "stdout",
     "output_type": "stream",
     "text": [
      "<class 'pandas.core.frame.DataFrame'>\n",
      "Int64Index: 9091 entries, 0 to 9998\n",
      "Data columns (total 14 columns):\n",
      " #   Column             Non-Null Count  Dtype  \n",
      "---  ------             --------------  -----  \n",
      " 0   RowNumber          9091 non-null   int64  \n",
      " 1   CustomerId         9091 non-null   int64  \n",
      " 2   CreditScore        9091 non-null   int64  \n",
      " 3   Age                9091 non-null   int64  \n",
      " 4   Tenure             9091 non-null   float64\n",
      " 5   Balance            9091 non-null   float64\n",
      " 6   NumOfProducts      9091 non-null   int64  \n",
      " 7   HasCrCard          9091 non-null   int64  \n",
      " 8   IsActiveMember     9091 non-null   int64  \n",
      " 9   EstimatedSalary    9091 non-null   float64\n",
      " 10  Exited             9091 non-null   int64  \n",
      " 11  Geography_Germany  9091 non-null   uint8  \n",
      " 12  Geography_Spain    9091 non-null   uint8  \n",
      " 13  Gender_Male        9091 non-null   uint8  \n",
      "dtypes: float64(3), int64(8), uint8(3)\n",
      "memory usage: 1.1 MB\n"
     ]
    }
   ],
   "source": [
    "data.info()"
   ]
  },
  {
   "cell_type": "code",
   "execution_count": 222,
   "metadata": {},
   "outputs": [],
   "source": [
    "data = data.drop(['RowNumber','CustomerId'], axis=1)"
   ]
  },
  {
   "cell_type": "code",
   "execution_count": 223,
   "metadata": {},
   "outputs": [
    {
     "data": {
      "text/html": [
       "<div>\n",
       "<style scoped>\n",
       "    .dataframe tbody tr th:only-of-type {\n",
       "        vertical-align: middle;\n",
       "    }\n",
       "\n",
       "    .dataframe tbody tr th {\n",
       "        vertical-align: top;\n",
       "    }\n",
       "\n",
       "    .dataframe thead th {\n",
       "        text-align: right;\n",
       "    }\n",
       "</style>\n",
       "<table border=\"1\" class=\"dataframe\">\n",
       "  <thead>\n",
       "    <tr style=\"text-align: right;\">\n",
       "      <th></th>\n",
       "      <th>CreditScore</th>\n",
       "      <th>Age</th>\n",
       "      <th>Tenure</th>\n",
       "      <th>Balance</th>\n",
       "      <th>NumOfProducts</th>\n",
       "      <th>HasCrCard</th>\n",
       "      <th>IsActiveMember</th>\n",
       "      <th>EstimatedSalary</th>\n",
       "      <th>Exited</th>\n",
       "      <th>Geography_Germany</th>\n",
       "      <th>Geography_Spain</th>\n",
       "      <th>Gender_Male</th>\n",
       "    </tr>\n",
       "  </thead>\n",
       "  <tbody>\n",
       "    <tr>\n",
       "      <th>count</th>\n",
       "      <td>9091.000000</td>\n",
       "      <td>9091.000000</td>\n",
       "      <td>9091.000000</td>\n",
       "      <td>9091.000000</td>\n",
       "      <td>9091.000000</td>\n",
       "      <td>9091.000000</td>\n",
       "      <td>9091.000000</td>\n",
       "      <td>9091.000000</td>\n",
       "      <td>9091.000000</td>\n",
       "      <td>9091.000000</td>\n",
       "      <td>9091.000000</td>\n",
       "      <td>9091.000000</td>\n",
       "    </tr>\n",
       "    <tr>\n",
       "      <th>mean</th>\n",
       "      <td>650.736553</td>\n",
       "      <td>38.949181</td>\n",
       "      <td>4.997690</td>\n",
       "      <td>76522.740015</td>\n",
       "      <td>1.530195</td>\n",
       "      <td>0.704983</td>\n",
       "      <td>0.515565</td>\n",
       "      <td>100181.214924</td>\n",
       "      <td>0.203938</td>\n",
       "      <td>0.252227</td>\n",
       "      <td>0.247278</td>\n",
       "      <td>0.547135</td>\n",
       "    </tr>\n",
       "    <tr>\n",
       "      <th>std</th>\n",
       "      <td>96.410471</td>\n",
       "      <td>10.555581</td>\n",
       "      <td>2.894723</td>\n",
       "      <td>62329.528576</td>\n",
       "      <td>0.581003</td>\n",
       "      <td>0.456076</td>\n",
       "      <td>0.499785</td>\n",
       "      <td>57624.755647</td>\n",
       "      <td>0.402946</td>\n",
       "      <td>0.434315</td>\n",
       "      <td>0.431453</td>\n",
       "      <td>0.497801</td>\n",
       "    </tr>\n",
       "    <tr>\n",
       "      <th>min</th>\n",
       "      <td>350.000000</td>\n",
       "      <td>18.000000</td>\n",
       "      <td>0.000000</td>\n",
       "      <td>0.000000</td>\n",
       "      <td>1.000000</td>\n",
       "      <td>0.000000</td>\n",
       "      <td>0.000000</td>\n",
       "      <td>11.580000</td>\n",
       "      <td>0.000000</td>\n",
       "      <td>0.000000</td>\n",
       "      <td>0.000000</td>\n",
       "      <td>0.000000</td>\n",
       "    </tr>\n",
       "    <tr>\n",
       "      <th>25%</th>\n",
       "      <td>584.000000</td>\n",
       "      <td>32.000000</td>\n",
       "      <td>2.000000</td>\n",
       "      <td>0.000000</td>\n",
       "      <td>1.000000</td>\n",
       "      <td>0.000000</td>\n",
       "      <td>0.000000</td>\n",
       "      <td>51227.745000</td>\n",
       "      <td>0.000000</td>\n",
       "      <td>0.000000</td>\n",
       "      <td>0.000000</td>\n",
       "      <td>0.000000</td>\n",
       "    </tr>\n",
       "    <tr>\n",
       "      <th>50%</th>\n",
       "      <td>652.000000</td>\n",
       "      <td>37.000000</td>\n",
       "      <td>5.000000</td>\n",
       "      <td>97318.250000</td>\n",
       "      <td>1.000000</td>\n",
       "      <td>1.000000</td>\n",
       "      <td>1.000000</td>\n",
       "      <td>100240.200000</td>\n",
       "      <td>0.000000</td>\n",
       "      <td>0.000000</td>\n",
       "      <td>0.000000</td>\n",
       "      <td>1.000000</td>\n",
       "    </tr>\n",
       "    <tr>\n",
       "      <th>75%</th>\n",
       "      <td>717.000000</td>\n",
       "      <td>44.000000</td>\n",
       "      <td>7.000000</td>\n",
       "      <td>127561.890000</td>\n",
       "      <td>2.000000</td>\n",
       "      <td>1.000000</td>\n",
       "      <td>1.000000</td>\n",
       "      <td>149567.210000</td>\n",
       "      <td>0.000000</td>\n",
       "      <td>1.000000</td>\n",
       "      <td>0.000000</td>\n",
       "      <td>1.000000</td>\n",
       "    </tr>\n",
       "    <tr>\n",
       "      <th>max</th>\n",
       "      <td>850.000000</td>\n",
       "      <td>92.000000</td>\n",
       "      <td>10.000000</td>\n",
       "      <td>250898.090000</td>\n",
       "      <td>4.000000</td>\n",
       "      <td>1.000000</td>\n",
       "      <td>1.000000</td>\n",
       "      <td>199992.480000</td>\n",
       "      <td>1.000000</td>\n",
       "      <td>1.000000</td>\n",
       "      <td>1.000000</td>\n",
       "      <td>1.000000</td>\n",
       "    </tr>\n",
       "  </tbody>\n",
       "</table>\n",
       "</div>"
      ],
      "text/plain": [
       "       CreditScore          Age       Tenure        Balance  NumOfProducts  \\\n",
       "count  9091.000000  9091.000000  9091.000000    9091.000000    9091.000000   \n",
       "mean    650.736553    38.949181     4.997690   76522.740015       1.530195   \n",
       "std      96.410471    10.555581     2.894723   62329.528576       0.581003   \n",
       "min     350.000000    18.000000     0.000000       0.000000       1.000000   \n",
       "25%     584.000000    32.000000     2.000000       0.000000       1.000000   \n",
       "50%     652.000000    37.000000     5.000000   97318.250000       1.000000   \n",
       "75%     717.000000    44.000000     7.000000  127561.890000       2.000000   \n",
       "max     850.000000    92.000000    10.000000  250898.090000       4.000000   \n",
       "\n",
       "         HasCrCard  IsActiveMember  EstimatedSalary       Exited  \\\n",
       "count  9091.000000     9091.000000      9091.000000  9091.000000   \n",
       "mean      0.704983        0.515565    100181.214924     0.203938   \n",
       "std       0.456076        0.499785     57624.755647     0.402946   \n",
       "min       0.000000        0.000000        11.580000     0.000000   \n",
       "25%       0.000000        0.000000     51227.745000     0.000000   \n",
       "50%       1.000000        1.000000    100240.200000     0.000000   \n",
       "75%       1.000000        1.000000    149567.210000     0.000000   \n",
       "max       1.000000        1.000000    199992.480000     1.000000   \n",
       "\n",
       "       Geography_Germany  Geography_Spain  Gender_Male  \n",
       "count        9091.000000      9091.000000  9091.000000  \n",
       "mean            0.252227         0.247278     0.547135  \n",
       "std             0.434315         0.431453     0.497801  \n",
       "min             0.000000         0.000000     0.000000  \n",
       "25%             0.000000         0.000000     0.000000  \n",
       "50%             0.000000         0.000000     1.000000  \n",
       "75%             1.000000         0.000000     1.000000  \n",
       "max             1.000000         1.000000     1.000000  "
      ]
     },
     "execution_count": 223,
     "metadata": {},
     "output_type": "execute_result"
    }
   ],
   "source": [
    "data. describe()"
   ]
  },
  {
   "cell_type": "markdown",
   "metadata": {},
   "source": [
    "## Исследование задачи"
   ]
  },
  {
   "cell_type": "markdown",
   "metadata": {},
   "source": [
    "~~Баланс классов.~~"
   ]
  },
  {
   "cell_type": "code",
   "execution_count": 224,
   "metadata": {},
   "outputs": [
    {
     "data": {
      "text/plain": [
       "20.393796062039378"
      ]
     },
     "execution_count": 224,
     "metadata": {},
     "output_type": "execute_result"
    }
   ],
   "source": [
    "data['Exited'].mean()*100"
   ]
  },
  {
   "cell_type": "markdown",
   "metadata": {},
   "source": [
    "Ушло чуть больше 20-ти % клиентов. Сначала обучимся в таком виде."
   ]
  },
  {
   "cell_type": "markdown",
   "metadata": {},
   "source": [
    "~~Разделим выборку.~~"
   ]
  },
  {
   "cell_type": "code",
   "execution_count": 225,
   "metadata": {},
   "outputs": [],
   "source": [
    "class weather2():\n",
    "    '''    \n",
    "    # разделяем выборку на целевой и не целевые\n",
    "    priznak = data.drop(['Exited'], axis=1)\n",
    "    target = data['Exited']\n",
    "    # отбираем обучающую и валидационную выборки\n",
    "    priznak_teach, priznak_valid, target_teach, target_valid = train_test_split(\n",
    "        priznak, target, test_size=0.25, random_state=12345)\n",
    "    '''"
   ]
  },
  {
   "cell_type": "markdown",
   "metadata": {},
   "source": [
    "Обучими модели."
   ]
  },
  {
   "cell_type": "code",
   "execution_count": 226,
   "metadata": {
    "scrolled": true
   },
   "outputs": [],
   "source": [
    "class weather2():\n",
    "    '''\n",
    "    parametrs = { 'min_weight_fraction_leaf':[x / 1000.0 for x in range(1, 1000, 300)],\n",
    "                'max_leaf_nodes': range(0,1000,300),\n",
    "                'max_depth': range(0,1000,300),\n",
    "                'min_samples_leaf': range(0,1000,300),\n",
    "                'min_samples_split': range(0,1000,300),\n",
    "                }\n",
    "\n",
    "    Tree_model =  DecisionTreeClassifier(random_state=12345)\n",
    "    grid = GridSearchCV(Tree_model ,parametrs, cv=5)\n",
    "    grid.fit(priznak_teach, target_teach)\n",
    "    grid.best_params_\n",
    "    '''"
   ]
  },
  {
   "cell_type": "code",
   "execution_count": 227,
   "metadata": {
    "scrolled": true
   },
   "outputs": [],
   "source": [
    "class weather2():\n",
    "    '''\n",
    "    parametrs = { 'min_weight_fraction_leaf':[x / 1000.0 for x in range(1, 30, 10)],\n",
    "                'max_leaf_nodes': range(0,600,200),\n",
    "                'max_depth': range(0,600,200),\n",
    "                'min_samples_leaf': range(0,600,200),\n",
    "                'min_samples_split': range(0,600,200),\n",
    "                }\n",
    "\n",
    "    Tree_model =  DecisionTreeClassifier(random_state=12345)\n",
    "    grid = GridSearchCV(Tree_model ,parametrs, cv=5)\n",
    "    grid.fit(priznak_teach, target_teach)\n",
    "    grid.best_params_\n",
    "    '''"
   ]
  },
  {
   "cell_type": "code",
   "execution_count": 228,
   "metadata": {
    "scrolled": true
   },
   "outputs": [],
   "source": [
    "class weather2():\n",
    "    '''\n",
    "    parametrs = { 'min_weight_fraction_leaf':[x / 1000.0 for x in range(1, 12, 3)],\n",
    "                'max_leaf_nodes': range(0,400,100),\n",
    "                'max_depth': range(0,400,100),\n",
    "                'min_samples_leaf': range(0,400,100),\n",
    "                'min_samples_split': range(0,400,100),\n",
    "                }\n",
    "\n",
    "    Tree_model =  DecisionTreeClassifier(random_state=12345)\n",
    "    grid = GridSearchCV(Tree_model ,parametrs, cv=5)\n",
    "    grid.fit(priznak_teach, target_teach)\n",
    "    grid.best_params_\n",
    "    '''"
   ]
  },
  {
   "cell_type": "code",
   "execution_count": 229,
   "metadata": {
    "scrolled": true
   },
   "outputs": [],
   "source": [
    "class weather2():\n",
    "    '''\n",
    "    parametrs = { 'min_weight_fraction_leaf':[x / 1000.0 for x in range(1, 5, 1)],\n",
    "                'max_leaf_nodes': range(0,200,50),\n",
    "                'max_depth': range(0,200,50),\n",
    "                'min_samples_leaf': range(0,200,50),\n",
    "                'min_samples_split': range(0,200,50),\n",
    "                }\n",
    "\n",
    "    Tree_model =  DecisionTreeClassifier(random_state=12345)\n",
    "    grid = GridSearchCV(Tree_model ,parametrs, cv=5)\n",
    "    grid.fit(priznak_teach, target_teach)\n",
    "    grid.best_params_\n",
    "    '''"
   ]
  },
  {
   "cell_type": "code",
   "execution_count": 230,
   "metadata": {
    "scrolled": true
   },
   "outputs": [],
   "source": [
    "class weather2():\n",
    "    '''\n",
    "    parametrs = { 'min_weight_fraction_leaf':[x / 10000.0 for x in range(1, 21, 3)],\n",
    "                'max_leaf_nodes': range(0,100,25),\n",
    "                'max_depth': range(0,100,25),\n",
    "                'min_samples_leaf': range(0,100,25),\n",
    "                'min_samples_split': range(100,200,25),\n",
    "                }\n",
    "\n",
    "    Tree_model =  DecisionTreeClassifier(random_state=12345)\n",
    "    grid = GridSearchCV(Tree_model ,parametrs, cv=5)\n",
    "    grid.fit(priznak_teach, target_teach)\n",
    "    grid.best_params_\n",
    "    '''"
   ]
  },
  {
   "cell_type": "code",
   "execution_count": 231,
   "metadata": {
    "scrolled": true
   },
   "outputs": [],
   "source": [
    "class weather2():\n",
    "    '''\n",
    "    parametrs = { 'min_weight_fraction_leaf':[x / 10000.0 for x in range(1, 5, 1)],\n",
    "                'max_leaf_nodes': range(0,50,12),\n",
    "                'max_depth': range(0,50,12),\n",
    "                'min_samples_leaf': range(0,50,12),\n",
    "                'min_samples_split': range(50,150,25),\n",
    "                }\n",
    "\n",
    "    Tree_model =  DecisionTreeClassifier(random_state=12345)\n",
    "    grid = GridSearchCV(Tree_model ,parametrs, cv=5)\n",
    "    grid.fit(priznak_teach, target_teach)\n",
    "    grid.best_params_\n",
    "    '''"
   ]
  },
  {
   "cell_type": "code",
   "execution_count": 232,
   "metadata": {
    "scrolled": true
   },
   "outputs": [],
   "source": [
    "class weather2():\n",
    "    '''\n",
    "    print('min_weight_fraction_leaf = 0')\n",
    "    parametrs = {'max_leaf_nodes': range(10,35,5),\n",
    "                'max_depth': range(0,25,5),\n",
    "                'min_samples_leaf': range(0,25,5),\n",
    "                'min_samples_split': range(110,130,5),\n",
    "                }\n",
    "\n",
    "    Tree_model =  DecisionTreeClassifier(random_state=12345)\n",
    "    grid = GridSearchCV(Tree_model ,parametrs, cv=5)\n",
    "    grid.fit(priznak_teach, target_teach)\n",
    "    grid.best_params_\n",
    "    '''"
   ]
  },
  {
   "cell_type": "code",
   "execution_count": 233,
   "metadata": {
    "scrolled": true
   },
   "outputs": [],
   "source": [
    "class weather2():\n",
    "    '''\n",
    "    print('min_weight_fraction_leaf = 0')\n",
    "    parametrs = {'max_leaf_nodes': range(20,30,2),\n",
    "                'max_depth': range(0,15,3),\n",
    "                'min_samples_leaf': range(0,15,3),\n",
    "                'min_samples_split': range(100,130,5),\n",
    "                }\n",
    "\n",
    "    Tree_model =  DecisionTreeClassifier(random_state=12345)\n",
    "    grid = GridSearchCV(Tree_model ,parametrs, cv=5)\n",
    "    grid.fit(priznak_teach, target_teach)\n",
    "    grid.best_params_\n",
    "    '''"
   ]
  },
  {
   "cell_type": "code",
   "execution_count": 234,
   "metadata": {},
   "outputs": [],
   "source": [
    "class weather2():\n",
    "    '''\n",
    "    print('min_weight_fraction_leaf = 0')\n",
    "    parametrs = {'max_leaf_nodes': range(20,30,1),\n",
    "                'max_depth': range(3,9,1),\n",
    "                'min_samples_leaf': range(6,12,1),\n",
    "                'min_samples_split': range(100,120,1),\n",
    "                }\n",
    "\n",
    "    Tree_model =  DecisionTreeClassifier(random_state=12345)\n",
    "    grid = GridSearchCV(Tree_model ,parametrs, cv=5)\n",
    "    grid.fit(priznak_teach, target_teach)\n",
    "    grid.best_params_\n",
    "    '''"
   ]
  },
  {
   "cell_type": "markdown",
   "metadata": {},
   "source": [
    "~~Вот эти параметры и попробуем.~~"
   ]
  },
  {
   "cell_type": "code",
   "execution_count": 235,
   "metadata": {},
   "outputs": [],
   "source": [
    "class weather2():\n",
    "    '''\n",
    "    Tree_model =  DecisionTreeClassifier(random_state=12345, \n",
    "                                         max_leaf_nodes = 22, max_depth = 6, min_weight_fraction_leaf = 0,\n",
    "                                        min_samples_leaf = 8, min_samples_split = 110)\n",
    "    Tree_model.fit(priznak_teach, target_teach)\n",
    "    prognos_valid = Tree_model.predict(priznak_valid)\n",
    "    print('Качество случайного дерева при лучших гиперпараметрах:')\n",
    "    print('accuracy = ',accuracy_score(target_valid, prognos_valid))\n",
    "    print('f1 = ',f1_score(target_valid, prognos_valid))\n",
    "    acbt = accuracy_score(target_valid, prognos_valid)\n",
    "    f1bt = f1_score(target_valid, prognos_valid)\n",
    "    arbt = roc_auc_score(target_valid, prognos_valid)\n",
    "    '''"
   ]
  },
  {
   "cell_type": "code",
   "execution_count": 236,
   "metadata": {},
   "outputs": [],
   "source": [
    "class weather2():\n",
    "    '''\n",
    "    print('accuracy = ',accuracy_score(target_teach, Tree_model.predict(priznak_teach)))\n",
    "    print('f1 = ',f1_score(target_teach, Tree_model.predict(priznak_teach)))\n",
    "    '''"
   ]
  },
  {
   "cell_type": "code",
   "execution_count": 237,
   "metadata": {},
   "outputs": [],
   "source": [
    "class weather2():\n",
    "    '''\n",
    "    Tree_model =  DecisionTreeClassifier(random_state=12345)\n",
    "    Tree_model.fit(priznak_teach, target_teach)\n",
    "    prognos_valid = Tree_model.predict(priznak_valid)\n",
    "    print('Качество случайного дерева при стандартных гиперпараметрах:')\n",
    "    print('accuracy = ',accuracy_score(target_valid, prognos_valid))\n",
    "    print('f1 = ',f1_score(target_valid, prognos_valid))\n",
    "    acst = accuracy_score(target_valid, prognos_valid)\n",
    "    f1st = f1_score(target_valid, prognos_valid)\n",
    "    arst = roc_auc_score(target_valid, prognos_valid)\n",
    "    '''"
   ]
  },
  {
   "cell_type": "code",
   "execution_count": 238,
   "metadata": {},
   "outputs": [],
   "source": [
    "class weather2():\n",
    "    '''\n",
    "    print('accuracy = ',accuracy_score(target_teach, Tree_model.predict(priznak_teach)))\n",
    "    print('f1 = ',f1_score(target_teach, Tree_model.predict(priznak_teach)))\n",
    "    '''"
   ]
  },
  {
   "cell_type": "markdown",
   "metadata": {},
   "source": [
    "~~Попробуем с лесом тоже самое.~~"
   ]
  },
  {
   "cell_type": "code",
   "execution_count": 239,
   "metadata": {
    "scrolled": true
   },
   "outputs": [],
   "source": [
    "class weather2():\n",
    "    '''\n",
    "    parametrs = {'max_features': ['sqrt','log2', None],\n",
    "                 'oob_score': [True, False],\n",
    "                 'warm_start': [True, False],\n",
    "                 'criterion': ['gini','entropy']\n",
    "                }\n",
    "\n",
    "    Forest_model =  RandomForestClassifier(random_state=12345)\n",
    "    grid = GridSearchCV(Forest_model ,parametrs, cv=5)\n",
    "    grid.fit(priznak_teach, target_teach)\n",
    "    grid.best_params_\n",
    "    '''"
   ]
  },
  {
   "cell_type": "code",
   "execution_count": 240,
   "metadata": {
    "scrolled": true
   },
   "outputs": [],
   "source": [
    "class weather2():\n",
    "    '''\n",
    "    parametrs = {'max_samples': range(0,1000,300),\n",
    "                 'max_depth': range(0,1000,300),\n",
    "                 'min_samples_leaf': range(0,1000,300),\n",
    "                 'min_samples_split': range(0,1000,300)\n",
    "                }\n",
    "\n",
    "    Forest_model =  RandomForestClassifier(random_state=12345, \n",
    "                                           criterion = 'entropy',\n",
    "                                          max_features = 'sqrt',\n",
    "                                          oob_score = True,\n",
    "                                          warm_start = True)\n",
    "    grid = GridSearchCV(Forest_model ,parametrs, cv=5)\n",
    "    grid.fit(priznak_teach, target_teach)\n",
    "    grid.best_params_\n",
    "    '''"
   ]
  },
  {
   "cell_type": "code",
   "execution_count": 241,
   "metadata": {},
   "outputs": [],
   "source": [
    "class weather2():\n",
    "    '''\n",
    "    parametrs = {'max_samples': range(0,600,200),\n",
    "                 'max_depth': range(0,600,200),\n",
    "                 'min_samples_leaf': range(0,600,200),\n",
    "                 'min_samples_split': range(0,600,200)\n",
    "                }\n",
    "\n",
    "    Forest_model =  RandomForestClassifier(random_state=12345, \n",
    "                                           criterion = 'entropy',\n",
    "                                          max_features = 'sqrt',\n",
    "                                          oob_score = True,\n",
    "                                          warm_start = True)\n",
    "    grid = GridSearchCV(Forest_model ,parametrs, cv=5)\n",
    "    grid.fit(priznak_teach, target_teach)\n",
    "    grid.best_params_\n",
    "    '''"
   ]
  },
  {
   "cell_type": "code",
   "execution_count": 242,
   "metadata": {},
   "outputs": [],
   "source": [
    "class weather2():\n",
    "    '''\n",
    "    parametrs = {'max_samples': range(0,400,133),\n",
    "                 'max_depth': range(0,400,133),\n",
    "                 'min_samples_leaf': range(0,400,133),\n",
    "                 'min_samples_split': range(0,400,133)\n",
    "                }\n",
    "\n",
    "    Forest_model =  RandomForestClassifier(random_state=12345, \n",
    "                                           criterion = 'entropy',\n",
    "                                          max_features = 'sqrt',\n",
    "                                          oob_score = True,\n",
    "                                          warm_start = True)\n",
    "    grid = GridSearchCV(Forest_model ,parametrs, cv=5)\n",
    "    grid.fit(priznak_teach, target_teach)\n",
    "    grid.best_params_\n",
    "    '''"
   ]
  },
  {
   "cell_type": "code",
   "execution_count": 243,
   "metadata": {},
   "outputs": [],
   "source": [
    "class weather2():\n",
    "    '''\n",
    "    parametrs = {'max_samples': range(0,250,83),\n",
    "                 'max_depth': range(0,250,83),\n",
    "                 'min_samples_leaf': range(0,250,83),\n",
    "                 'min_samples_split': range(0,250,83)\n",
    "                }\n",
    "\n",
    "    Forest_model =  RandomForestClassifier(random_state=12345, \n",
    "                                           criterion = 'entropy',\n",
    "                                          max_features = 'sqrt',\n",
    "                                          oob_score = True,\n",
    "                                          warm_start = True)\n",
    "    grid = GridSearchCV(Forest_model ,parametrs, cv=5)\n",
    "    grid.fit(priznak_teach, target_teach)\n",
    "    grid.best_params_\n",
    "    '''"
   ]
  },
  {
   "cell_type": "code",
   "execution_count": 244,
   "metadata": {},
   "outputs": [],
   "source": [
    "class weather2():\n",
    "    '''\n",
    "    parametrs = {'max_samples': range(0,150,50),\n",
    "                 'max_depth': range(0,150,50),\n",
    "                 'min_samples_leaf': range(0,150,50),\n",
    "                 'min_samples_split': range(0,150,50)\n",
    "                }\n",
    "\n",
    "    Forest_model =  RandomForestClassifier(random_state=12345, \n",
    "                                           criterion = 'entropy',\n",
    "                                          max_features = 'sqrt',\n",
    "                                          oob_score = True,\n",
    "                                          warm_start = True)\n",
    "    grid = GridSearchCV(Forest_model ,parametrs, cv=5)\n",
    "    grid.fit(priznak_teach, target_teach)\n",
    "    grid.best_params_\n",
    "    '''"
   ]
  },
  {
   "cell_type": "code",
   "execution_count": 245,
   "metadata": {},
   "outputs": [],
   "source": [
    "class weather2():\n",
    "    '''\n",
    "    parametrs = {'max_samples': range(0,100,30),\n",
    "                 'max_depth': range(0,100,30),\n",
    "                 'min_samples_leaf': range(0,100,30),\n",
    "                 'min_samples_split': range(0,100,30)\n",
    "                }\n",
    "\n",
    "    Forest_model =  RandomForestClassifier(random_state=12345, \n",
    "                                           criterion = 'entropy',\n",
    "                                          max_features = 'sqrt',\n",
    "                                          oob_score = True,\n",
    "                                          warm_start = True)\n",
    "    grid = GridSearchCV(Forest_model ,parametrs, cv=5)\n",
    "    grid.fit(priznak_teach, target_teach)\n",
    "    grid.best_params_\n",
    "    '''"
   ]
  },
  {
   "cell_type": "code",
   "execution_count": 246,
   "metadata": {},
   "outputs": [],
   "source": [
    "class weather2():\n",
    "    '''\n",
    "    parametrs = {'max_samples': range(0,60,20),\n",
    "                 'max_depth': range(0,60,20),\n",
    "                 'min_samples_leaf': range(0,60,20),\n",
    "                 'min_samples_split': range(0,60,20)\n",
    "                }\n",
    "\n",
    "    Forest_model =  RandomForestClassifier(random_state=12345, \n",
    "                                           criterion = 'entropy',\n",
    "                                          max_features = 'sqrt',\n",
    "                                          oob_score = True,\n",
    "                                          warm_start = True)\n",
    "    grid = GridSearchCV(Forest_model ,parametrs, cv=5)\n",
    "    grid.fit(priznak_teach, target_teach)\n",
    "    grid.best_params_\n",
    "    '''"
   ]
  },
  {
   "cell_type": "code",
   "execution_count": 247,
   "metadata": {},
   "outputs": [],
   "source": [
    "class weather2():\n",
    "    '''\n",
    "    parametrs = {'max_samples': range(0,40,13),\n",
    "                 'max_depth': range(0,40,13),\n",
    "                 'min_samples_leaf': range(0,40,13),\n",
    "                 'min_samples_split': range(0,40,13)\n",
    "                }\n",
    "\n",
    "    Forest_model =  RandomForestClassifier(random_state=12345, \n",
    "                                           criterion = 'entropy',\n",
    "                                          max_features = 'sqrt',\n",
    "                                          oob_score = True,\n",
    "                                          warm_start = True)\n",
    "    grid = GridSearchCV(Forest_model ,parametrs, cv=5)\n",
    "    grid.fit(priznak_teach, target_teach)\n",
    "    grid.best_params_\n",
    "    '''"
   ]
  },
  {
   "cell_type": "code",
   "execution_count": 248,
   "metadata": {},
   "outputs": [],
   "source": [
    "class weather2():\n",
    "    '''\n",
    "    parametrs = {'max_samples': range(0,25,8),\n",
    "                 'max_depth': range(0,25,8),\n",
    "                 'min_samples_leaf': range(0,25,8),\n",
    "                 'min_samples_split': range(0,25,8)\n",
    "                }\n",
    "\n",
    "    Forest_model =  RandomForestClassifier(random_state=12345, \n",
    "                                           criterion = 'entropy',\n",
    "                                          max_features = 'sqrt',\n",
    "                                          oob_score = True,\n",
    "                                          warm_start = True)\n",
    "    grid = GridSearchCV(Forest_model ,parametrs, cv=5)\n",
    "    grid.fit(priznak_teach, target_teach)\n",
    "    grid.best_params_\n",
    "    '''"
   ]
  },
  {
   "cell_type": "code",
   "execution_count": 249,
   "metadata": {},
   "outputs": [],
   "source": [
    "class weather2():\n",
    "    '''\n",
    "    parametrs = {'max_samples': range(0,15,5),\n",
    "                 'max_depth': range(0,15,5),\n",
    "                 'min_samples_leaf': range(0,15,5),\n",
    "                 'min_samples_split': range(0,15,5)\n",
    "                }\n",
    "\n",
    "    Forest_model =  RandomForestClassifier(random_state=12345, \n",
    "                                           criterion = 'entropy',\n",
    "                                          max_features = 'sqrt',\n",
    "                                          oob_score = True,\n",
    "                                          warm_start = True)\n",
    "    grid = GridSearchCV(Forest_model ,parametrs, cv=5)\n",
    "    grid.fit(priznak_teach, target_teach)\n",
    "    grid.best_params_\n",
    "    '''"
   ]
  },
  {
   "cell_type": "code",
   "execution_count": 250,
   "metadata": {},
   "outputs": [],
   "source": [
    "class weather2():\n",
    "    '''\n",
    "    parametrs = {'max_samples': range(0,9,3),\n",
    "                 'max_depth': range(0,9,3),\n",
    "                 'min_samples_leaf': range(0,9,3),\n",
    "                 'min_samples_split': range(0,9,3)\n",
    "                }\n",
    "\n",
    "    Forest_model =  RandomForestClassifier(random_state=12345, \n",
    "                                           criterion = 'entropy',\n",
    "                                          max_features = 'sqrt',\n",
    "                                          oob_score = True,\n",
    "                                          warm_start = True)\n",
    "    grid = GridSearchCV(Forest_model ,parametrs, cv=5)\n",
    "    grid.fit(priznak_teach, target_teach)\n",
    "    grid.best_params_\n",
    "    '''"
   ]
  },
  {
   "cell_type": "code",
   "execution_count": 251,
   "metadata": {},
   "outputs": [],
   "source": [
    "class weather2():\n",
    "    '''\n",
    "    parametrs = {'max_samples': range(0,3,1),\n",
    "                 'max_depth': range(0,3,1),\n",
    "                 'min_samples_leaf': range(0,3,1),\n",
    "                 'min_samples_split': range(0,3,1)\n",
    "                }\n",
    "\n",
    "    Forest_model =  RandomForestClassifier(random_state=12345, \n",
    "                                           criterion = 'entropy',\n",
    "                                          max_features = 'sqrt',\n",
    "                                          oob_score = True,\n",
    "                                          warm_start = True)\n",
    "    grid = GridSearchCV(Forest_model ,parametrs, cv=5)\n",
    "    grid.fit(priznak_teach, target_teach)\n",
    "    grid.best_params_\n",
    "    '''"
   ]
  },
  {
   "cell_type": "code",
   "execution_count": 252,
   "metadata": {},
   "outputs": [],
   "source": [
    "class weather2():\n",
    "    '''\n",
    "    Forest_model =  RandomForestClassifier(random_state=12345, \n",
    "                                           criterion = 'entropy',\n",
    "                                          max_features = 'sqrt',\n",
    "                                          oob_score = True,\n",
    "                                          warm_start = True,\n",
    "                                         max_samples = 1,\n",
    "                                         max_depth = 1,\n",
    "                                         min_samples_leaf = 1,\n",
    "                                         min_samples_split = 2)\n",
    "    Forest_model.fit(priznak_teach, target_teach)\n",
    "    prognos_valid = Forest_model.predict(priznak_valid)\n",
    "    print('Качество случайного леса при лучших гиперпараметрах:')\n",
    "    print('accuracy = ',accuracy_score(target_valid, prognos_valid))\n",
    "    print('f1 = ',f1_score(target_valid, prognos_valid))\n",
    "    acbf = accuracy_score(target_valid, prognos_valid)\n",
    "    f1bf = f1_score(target_valid, prognos_valid)\n",
    "    arbf = roc_auc_score(target_valid, prognos_valid)\n",
    "    '''"
   ]
  },
  {
   "cell_type": "code",
   "execution_count": 253,
   "metadata": {},
   "outputs": [],
   "source": [
    "class weather2():\n",
    "    '''\n",
    "    Forest_model =  RandomForestClassifier(random_state=12345)\n",
    "    Forest_model.fit(priznak_teach, target_teach)\n",
    "    prognos_valid = Forest_model.predict(priznak_valid)\n",
    "    print('Качество случайного леса при стандартных гиперпараметрах:')\n",
    "    print('accuracy = ',accuracy_score(target_valid, prognos_valid))\n",
    "    print('f1 = ',f1_score(target_valid, prognos_valid))\n",
    "    acsf = accuracy_score(target_valid, prognos_valid)\n",
    "    f1sf = f1_score(target_valid, prognos_valid)\n",
    "    arsf = roc_auc_score(target_valid, prognos_valid)\n",
    "    '''"
   ]
  },
  {
   "cell_type": "code",
   "execution_count": 254,
   "metadata": {},
   "outputs": [],
   "source": [
    "class weather2():\n",
    "    '''\n",
    "    print('accuracy = ',accuracy_score(target_teach, Forest_model.predict(priznak_teach)))\n",
    "    print('f1 = ',f1_score(target_teach, Forest_model.predict(priznak_teach)))\n",
    "    '''"
   ]
  },
  {
   "cell_type": "markdown",
   "metadata": {},
   "source": [
    "~~То же с линейной регрессией~~"
   ]
  },
  {
   "cell_type": "code",
   "execution_count": 255,
   "metadata": {
    "scrolled": true
   },
   "outputs": [],
   "source": [
    "class weather2():\n",
    "    '''\n",
    "    parametrs = {'penalty':['l1','l2','elasticnet', None],\n",
    "                'dual':[True, False]}\n",
    "\n",
    "    Logistic_model =  LogisticRegression(random_state=12345)\n",
    "    grid = GridSearchCV(Logistic_model ,parametrs, cv=5)\n",
    "    grid.fit(priznak_teach, target_teach)\n",
    "    grid.best_params_\n",
    "    '''"
   ]
  },
  {
   "cell_type": "code",
   "execution_count": 256,
   "metadata": {},
   "outputs": [],
   "source": [
    "class weather2():\n",
    "    '''\n",
    "    parametrs = { 'tol':[x / 1000.0 for x in range(1, 1000,250)],\n",
    "                'intercept_scaling':[x / 1000.0 for x in range(1, 1000, 250)],\n",
    "                'max_iter':range(0,1000,250),\n",
    "                }\n",
    "\n",
    "    Logistic_model =  LogisticRegression(random_state=12345, penalty = 'l2', dual = False)\n",
    "    grid = GridSearchCV(Logistic_model ,parametrs, cv=5)\n",
    "    grid.fit(priznak_teach, target_teach)\n",
    "    grid.best_params_\n",
    "    '''"
   ]
  },
  {
   "cell_type": "code",
   "execution_count": 257,
   "metadata": {},
   "outputs": [],
   "source": [
    "class weather2():\n",
    "    '''\n",
    "    parametrs = { 'tol':[x / 1000.0 for x in range(1, 50,12)],\n",
    "                'intercept_scaling':[x / 1000.0 for x in range(1, 50, 12)],\n",
    "                'max_iter':range(0,50,12),\n",
    "                }\n",
    "\n",
    "    Logistic_model =  LogisticRegression(random_state=12345, penalty = 'l2', dual = False)\n",
    "    grid = GridSearchCV(Logistic_model ,parametrs, cv=5)\n",
    "    grid.fit(priznak_teach, target_teach)\n",
    "    grid.best_params_\n",
    "    '''"
   ]
  },
  {
   "cell_type": "code",
   "execution_count": 258,
   "metadata": {},
   "outputs": [],
   "source": [
    "class weather2():\n",
    "    '''\n",
    "    parametrs = { 'tol':[x / 1000.0 for x in range(1, 10,3)],\n",
    "                'intercept_scaling':[x / 1000.0 for x in range(1, 10, 3)],\n",
    "                'max_iter':range(0,10,3),\n",
    "                }\n",
    "\n",
    "    Logistic_model =  LogisticRegression(random_state=12345, penalty = 'l2', dual = False)\n",
    "    grid = GridSearchCV(Logistic_model ,parametrs, cv=5)\n",
    "    grid.fit(priznak_teach, target_teach)\n",
    "    grid.best_params_\n",
    "    '''"
   ]
  },
  {
   "cell_type": "code",
   "execution_count": 259,
   "metadata": {},
   "outputs": [],
   "source": [
    "class weather2():\n",
    "    '''\n",
    "    parametrs = { 'tol':[x / 1000.0 for x in range(1, 5,1)],\n",
    "                'intercept_scaling':[x / 1000.0 for x in range(1, 10, 1)],\n",
    "                'max_iter':range(0,5,1),\n",
    "                }\n",
    "\n",
    "    Logistic_model =  LogisticRegression(random_state=12345, penalty = 'l2', dual = False)\n",
    "    grid = GridSearchCV(Logistic_model ,parametrs, cv=5)\n",
    "    grid.fit(priznak_teach, target_teach)\n",
    "    grid.best_params_\n",
    "    '''"
   ]
  },
  {
   "cell_type": "code",
   "execution_count": 260,
   "metadata": {},
   "outputs": [],
   "source": [
    "class weather2():\n",
    "    '''\n",
    "    parametrs = { 'tol':[x / 10000.0 for x in range(1, 5,1)],\n",
    "                'intercept_scaling':[x / 10000.0 for x in range(1, 10, 1)],\n",
    "                'max_iter':range(0,5,1)}\n",
    "\n",
    "    Logistic_model =  LogisticRegression(random_state=12345)\n",
    "    grid = GridSearchCV(Logistic_model ,parametrs, cv=5)\n",
    "    grid.fit(priznak_teach, target_teach)\n",
    "    grid.best_params_\n",
    "    '''"
   ]
  },
  {
   "cell_type": "code",
   "execution_count": 261,
   "metadata": {},
   "outputs": [],
   "source": [
    "class weather2():\n",
    "    '''\n",
    "    Logistic_model =  LogisticRegression(random_state=12345,\n",
    "                                         dual = False,\n",
    "                                         penalty = 'l2',\n",
    "                                         max_iter = 0,\n",
    "                                         intercept_scaling = 0.0001,\n",
    "                                         tol = 0.0001\n",
    "                                        )\n",
    "    Logistic_model.fit(priznak_teach, target_teach)\n",
    "    prognos_valid = Logistic_model.predict(priznak_valid)\n",
    "    print('Качество логистики при лучших гиперпараметрах:')\n",
    "    print('accuracy = ',accuracy_score(target_valid, prognos_valid))\n",
    "    print('f1 = ',f1_score(target_valid, prognos_valid))\n",
    "    acbl = accuracy_score(target_valid, prognos_valid)\n",
    "    f1bl = f1_score(target_valid, prognos_valid)\n",
    "    arbl = roc_auc_score(target_valid, prognos_valid)\n",
    "    '''"
   ]
  },
  {
   "cell_type": "code",
   "execution_count": 262,
   "metadata": {},
   "outputs": [],
   "source": [
    "class weather2():\n",
    "    '''\n",
    "    Logistic_model =  LogisticRegression(random_state=12345)\n",
    "    Logistic_model.fit(priznak_teach, target_teach)\n",
    "    prognos_valid = Logistic_model.predict(priznak_valid)\n",
    "    print('Качество логистики при стандартных гиперпараметрах:')\n",
    "    print('accuracy = ',accuracy_score(target_valid, prognos_valid))\n",
    "    print('f1 = ',f1_score(target_valid, prognos_valid))\n",
    "    acsl = accuracy_score(target_valid, prognos_valid)\n",
    "    f1sl = f1_score(target_valid, prognos_valid)\n",
    "    arsl = roc_auc_score(target_valid, prognos_valid)\n",
    "    '''"
   ]
  },
  {
   "cell_type": "code",
   "execution_count": 263,
   "metadata": {},
   "outputs": [],
   "source": [
    "class weather2():\n",
    "    '''\n",
    "    pd.DataFrame({'Model':['Tree', 'Forest', 'Logistic'], \n",
    "                  'accuracy_best':[acbt, acbf, acbl], \n",
    "                  'f1_best':[f1bt, f1bf, f1bl], \n",
    "                  'auc_roc_best':[arbt, arbf, arbl],\n",
    "                  'accuracy_standart':[acst,acsf, acsl], \n",
    "                  'f1_standart':[f1st, f1sf, f1sl], \n",
    "                  'auc_roc_standart':[arst, arsf, arsl]})\n",
    "    '''"
   ]
  },
  {
   "cell_type": "markdown",
   "metadata": {},
   "source": [
    "~~Смушает то, что у леса и логистики попытка найти лучшие гиперпараметры привели к тому, что f1 мера вообще в ноль ушла, а стандартные гиперпараметры выдают какой то результат.  \n",
    "Лучше всего показали дерево с гиперпараметрами и лес по умолчанию.~~"
   ]
  },
  {
   "cell_type": "markdown",
   "metadata": {},
   "source": [
    "~~Для интереса решил посмотреть качество и f1 для обучающей выборки. Логично предположить, что эти параметры на обучающей выборке будут стремиться к 1-це. Внезапно для дерева при лучших гиперпараметрах это абсолютно не так. Если смотреть по совокупности всех данных похоже единственная модель, которая показывает правдоподобные данные это случайный лес со стандартными настройками. Если после устранения дисбаланса классов он покажет достаточые показатели на нем и остановимся. Тем более для этой модели и AUC-ROC наибольшая.~~"
   ]
  },
  {
   "cell_type": "markdown",
   "metadata": {},
   "source": [
    "## Борьба с дисбалансом"
   ]
  },
  {
   "cell_type": "markdown",
   "metadata": {},
   "source": [
    "~~Делим датасет на нули и единицы по целевому.~~"
   ]
  },
  {
   "cell_type": "code",
   "execution_count": 264,
   "metadata": {},
   "outputs": [],
   "source": [
    "class weather2():\n",
    "    '''\n",
    "    priznak_zeros = priznak[target == 0]\n",
    "    priznak_ones = priznak[target == 1]\n",
    "    target_zeros = target[target == 0]\n",
    "    target_ones = target[target == 1]\n",
    "    print(priznak_zeros.shape)\n",
    "    print(priznak_ones.shape)\n",
    "    print(target_zeros.shape)\n",
    "    print(target_ones.shape)\n",
    "    print(target_ones.shape[0]/(target_ones.shape[0]+target_zeros.shape[0]))\n",
    "    print(priznak_ones.shape[0]/(priznak_ones.shape[0]+priznak_zeros.shape[0]))\n",
    "    '''"
   ]
  },
  {
   "cell_type": "markdown",
   "metadata": {},
   "source": [
    "~~Увеличиваем количество единиц так, что бу количество единиц и нулей примерно было равно.~~"
   ]
  },
  {
   "cell_type": "code",
   "execution_count": 265,
   "metadata": {},
   "outputs": [],
   "source": [
    "class weather2():\n",
    "    '''\n",
    "    repeat = 4\n",
    "    new_priznak = pd.concat([priznak_zeros] + [priznak_ones] * repeat)\n",
    "    new_target = pd.concat([target_zeros] + [target_ones] * repeat)\n",
    "    new_target.mean()\n",
    "    '''"
   ]
  },
  {
   "cell_type": "markdown",
   "metadata": {},
   "source": [
    "~~Перемешаем~~"
   ]
  },
  {
   "cell_type": "code",
   "execution_count": 266,
   "metadata": {},
   "outputs": [],
   "source": [
    "class weather2():\n",
    "    '''\n",
    "    new_priznak, new_target = shuffle(new_priznak, new_target, random_state=12345)\n",
    "    '''"
   ]
  },
  {
   "cell_type": "markdown",
   "metadata": {},
   "source": [
    "~~Снова поделим данные.~~"
   ]
  },
  {
   "cell_type": "code",
   "execution_count": 267,
   "metadata": {},
   "outputs": [],
   "source": [
    "class weather2():\n",
    "    '''\n",
    "    # отбираем тестовую выборку\n",
    "    new_priznak_teach, new_priznak_test, new_target_teach, new_target_test = train_test_split(\n",
    "        new_priznak, new_target, test_size=0.1, random_state=12345)\n",
    "\n",
    "    # отбираем обучающую и валидационную выборки\n",
    "    new_priznak_teach, new_priznak_valid, new_target_teach, new_target_valid = train_test_split(\n",
    "        new_priznak_teach, new_target_teach, test_size=0.28, random_state=12345)\n",
    "    '''"
   ]
  },
  {
   "cell_type": "markdown",
   "metadata": {},
   "source": [
    "~~Обучим снова лес со стандартными параметрами.~~"
   ]
  },
  {
   "cell_type": "code",
   "execution_count": 268,
   "metadata": {},
   "outputs": [],
   "source": [
    "class weather2():\n",
    "    '''\n",
    "    Forest_model =  RandomForestClassifier(random_state=12345)\n",
    "    Forest_model.fit(new_priznak_teach, new_target_teach)\n",
    "    prognos_valid = Forest_model.predict(new_priznak_valid)\n",
    "\n",
    "    acsf = accuracy_score(new_target_valid, prognos_valid)\n",
    "    f1sf = f1_score(new_target_valid, prognos_valid)\n",
    "    arsf = roc_auc_score(new_target_valid, prognos_valid)\n",
    "\n",
    "    print('Качество случайного леса при стандартных гиперпараметрах на сбалансированной выборке:')\n",
    "    print('accuracy = ',acsf)\n",
    "    print('f1 = ',f1sf)\n",
    "    print('AUC_ROC = ',arsf)\n",
    "    '''"
   ]
  },
  {
   "cell_type": "markdown",
   "metadata": {},
   "source": [
    "~~Офигенно.~~"
   ]
  },
  {
   "cell_type": "markdown",
   "metadata": {},
   "source": [
    "## Тестирование модели"
   ]
  },
  {
   "cell_type": "code",
   "execution_count": 269,
   "metadata": {},
   "outputs": [],
   "source": [
    "class weather2():\n",
    "    '''\n",
    "    prognos_test = Forest_model.predict(new_priznak_test)\n",
    "\n",
    "    acsf = accuracy_score(new_target_test, prognos_test)\n",
    "    f1sf = f1_score(new_target_test, prognos_test)\n",
    "    arsf = roc_auc_score(new_target_test, prognos_test)\n",
    "\n",
    "    print('Качество случайного леса при стандартных гиперпараметрах на сбалансированной тестовой выборке:')\n",
    "    print('accuracy = ',acsf)\n",
    "    print('f1 = ',f1sf)\n",
    "    print('AUC_ROC = ',arsf)\n",
    "    '''"
   ]
  },
  {
   "cell_type": "markdown",
   "metadata": {},
   "source": [
    "~~Даже лучше чем на валидационной выборке. Похоже переобучения не случилось.~~"
   ]
  },
  {
   "cell_type": "markdown",
   "metadata": {},
   "source": [
    "## Исследование задачи"
   ]
  },
  {
   "cell_type": "code",
   "execution_count": 270,
   "metadata": {},
   "outputs": [],
   "source": [
    "# разделяем выборку на целевой и не целевые\n",
    "priznak = data.drop(['Exited'], axis=1)\n",
    "target = data['Exited']"
   ]
  },
  {
   "cell_type": "code",
   "execution_count": 271,
   "metadata": {},
   "outputs": [],
   "source": [
    "# отбираем тестовую выборку\n",
    "priznak_teach, priznak_test, target_teach, target_test = train_test_split(\n",
    "    priznak, target, test_size=0.1, random_state=12345, stratify = target)\n",
    "\n",
    "# отбираем обучающую и валидационную выборки\n",
    "priznak_teach, priznak_valid, target_teach, target_valid = train_test_split(\n",
    "    priznak_teach, target_teach, test_size=0.28, random_state=12345, stratify = target_teach)"
   ]
  },
  {
   "cell_type": "code",
   "execution_count": 272,
   "metadata": {},
   "outputs": [
    {
     "data": {
      "text/plain": [
       "0.2039379606203938"
      ]
     },
     "execution_count": 272,
     "metadata": {},
     "output_type": "execute_result"
    }
   ],
   "source": [
    "data['Exited'].mean()"
   ]
  },
  {
   "cell_type": "code",
   "execution_count": 273,
   "metadata": {},
   "outputs": [
    {
     "data": {
      "text/plain": [
       "0.2039049235993209"
      ]
     },
     "execution_count": 273,
     "metadata": {},
     "output_type": "execute_result"
    }
   ],
   "source": [
    "target_teach.mean()"
   ]
  },
  {
   "cell_type": "code",
   "execution_count": 274,
   "metadata": {},
   "outputs": [
    {
     "data": {
      "text/plain": [
       "0.20384111741597555"
      ]
     },
     "execution_count": 274,
     "metadata": {},
     "output_type": "execute_result"
    }
   ],
   "source": [
    "target_valid.mean()"
   ]
  },
  {
   "cell_type": "code",
   "execution_count": 275,
   "metadata": {},
   "outputs": [
    {
     "data": {
      "text/plain": [
       "0.2043956043956044"
      ]
     },
     "execution_count": 275,
     "metadata": {},
     "output_type": "execute_result"
    }
   ],
   "source": [
    "target_test.mean()"
   ]
  },
  {
   "cell_type": "code",
   "execution_count": 276,
   "metadata": {},
   "outputs": [
    {
     "name": "stdout",
     "output_type": "stream",
     "text": [
      "(5890, 11)\n",
      "(2291, 11)\n",
      "(910, 11)\n",
      "(9091, 11)\n"
     ]
    }
   ],
   "source": [
    "print(priznak_teach. shape)\n",
    "print(priznak_valid. shape)\n",
    "print(priznak_test. shape)\n",
    "print((priznak_teach+priznak_valid+priznak_test). shape)"
   ]
  },
  {
   "cell_type": "markdown",
   "metadata": {},
   "source": [
    "### Обучаем дерево."
   ]
  },
  {
   "cell_type": "code",
   "execution_count": 277,
   "metadata": {},
   "outputs": [],
   "source": [
    "Tree_model =  DecisionTreeClassifier(random_state=12345)\n",
    "Tree_model.fit(priznak_teach, target_teach)\n",
    "prognos_valid = Tree_model.predict(priznak_valid)"
   ]
  },
  {
   "cell_type": "code",
   "execution_count": 278,
   "metadata": {},
   "outputs": [
    {
     "name": "stdout",
     "output_type": "stream",
     "text": [
      "accuracy_score =  0.7931034482758621\n",
      "f1_score =  0.5072765072765072\n",
      "roc_auc_score =  0.6924371454600098\n"
     ]
    }
   ],
   "source": [
    "acT = accuracy_score(target_valid, prognos_valid)\n",
    "f1T = f1_score(target_valid, prognos_valid)\n",
    "arT = roc_auc_score(target_valid, prognos_valid)\n",
    "print('accuracy_score = ',acT)\n",
    "print('f1_score = ',f1T)\n",
    "print('roc_auc_score = ',arT)"
   ]
  },
  {
   "cell_type": "markdown",
   "metadata": {},
   "source": [
    "### Обучаем случайный лес."
   ]
  },
  {
   "cell_type": "code",
   "execution_count": 279,
   "metadata": {},
   "outputs": [],
   "source": [
    "Forest_model =  RandomForestClassifier(random_state=12345)\n",
    "Forest_model.fit(priznak_teach, target_teach)\n",
    "prognos_valid = Forest_model.predict(priznak_valid)"
   ]
  },
  {
   "cell_type": "code",
   "execution_count": 280,
   "metadata": {},
   "outputs": [
    {
     "name": "stdout",
     "output_type": "stream",
     "text": [
      "accuracy_score =  0.8607594936708861\n",
      "f1_score =  0.5830065359477125\n",
      "roc_auc_score =  0.7181988194522709\n"
     ]
    }
   ],
   "source": [
    "acF = accuracy_score(target_valid, prognos_valid)\n",
    "f1F = f1_score(target_valid, prognos_valid)\n",
    "arF = roc_auc_score(target_valid, prognos_valid)\n",
    "print('accuracy_score = ',acF)\n",
    "print('f1_score = ',f1F)\n",
    "print('roc_auc_score = ',arF)"
   ]
  },
  {
   "cell_type": "markdown",
   "metadata": {},
   "source": [
    "### Обучаем логистическую регрессию."
   ]
  },
  {
   "cell_type": "code",
   "execution_count": 281,
   "metadata": {},
   "outputs": [],
   "source": [
    "Logistic_model =  LogisticRegression(random_state=12345)\n",
    "Logistic_model.fit(priznak_teach, target_teach)\n",
    "prognos_valid = Logistic_model.predict(priznak_valid)"
   ]
  },
  {
   "cell_type": "code",
   "execution_count": 282,
   "metadata": {},
   "outputs": [
    {
     "name": "stdout",
     "output_type": "stream",
     "text": [
      "accuracy_score =  0.7896115233522479\n",
      "f1_score =  0.10740740740740741\n",
      "roc_auc_score =  0.51898784702656\n"
     ]
    }
   ],
   "source": [
    "acL = accuracy_score(target_valid, prognos_valid)\n",
    "f1L = f1_score(target_valid, prognos_valid)\n",
    "arL = roc_auc_score(target_valid, prognos_valid)\n",
    "print('accuracy_score = ',acL)\n",
    "print('f1_score = ',f1L)\n",
    "print('roc_auc_score = ',arL)"
   ]
  },
  {
   "cell_type": "markdown",
   "metadata": {},
   "source": [
    "Ни одна из моделей не показала хороших показателей.  \n",
    "Если качество ещё более менее, а AUC-ROC с натяжкой можно счесть удовлетворительным, то f1 мера вообще даже 60% не набирает.  \n",
    "Тем не менее случайный лес показывает себя заметно лучше остальных моделей по всем метрикам.  \n",
    "Попробуем сбалансировать выборку."
   ]
  },
  {
   "cell_type": "markdown",
   "metadata": {},
   "source": [
    "### Борьба с дисбалансом."
   ]
  },
  {
   "cell_type": "markdown",
   "metadata": {},
   "source": [
    "Сначала попробуем стандартные методы."
   ]
  },
  {
   "cell_type": "code",
   "execution_count": 283,
   "metadata": {},
   "outputs": [],
   "source": [
    "Tree_model =  DecisionTreeClassifier(random_state=12345, class_weight = 'balanced')\n",
    "Tree_model.fit(priznak_teach, target_teach)\n",
    "prognos_valid = Tree_model.predict(priznak_valid)"
   ]
  },
  {
   "cell_type": "code",
   "execution_count": 284,
   "metadata": {},
   "outputs": [
    {
     "name": "stdout",
     "output_type": "stream",
     "text": [
      "accuracy_score =  0.7983413356612833\n",
      "f1_score =  0.5157232704402517\n",
      "roc_auc_score =  0.6973197011533115\n"
     ]
    }
   ],
   "source": [
    "acT = accuracy_score(target_valid, prognos_valid)\n",
    "f1T = f1_score(target_valid, prognos_valid)\n",
    "arT = roc_auc_score(target_valid, prognos_valid)\n",
    "print('accuracy_score = ',acT)\n",
    "print('f1_score = ',f1T)\n",
    "print('roc_auc_score = ',arT)"
   ]
  },
  {
   "cell_type": "code",
   "execution_count": 285,
   "metadata": {},
   "outputs": [],
   "source": [
    "Forest_model =  RandomForestClassifier(random_state=12345, class_weight = 'balanced')\n",
    "Forest_model.fit(priznak_teach, target_teach)\n",
    "prognos_valid = Forest_model.predict(priznak_valid)"
   ]
  },
  {
   "cell_type": "code",
   "execution_count": 286,
   "metadata": {},
   "outputs": [
    {
     "name": "stdout",
     "output_type": "stream",
     "text": [
      "accuracy_score =  0.8625054561326931\n",
      "f1_score =  0.5860709592641262\n",
      "roc_auc_score =  0.7192953106803411\n"
     ]
    }
   ],
   "source": [
    "acF = accuracy_score(target_valid, prognos_valid)\n",
    "f1F = f1_score(target_valid, prognos_valid)\n",
    "arF = roc_auc_score(target_valid, prognos_valid)\n",
    "print('accuracy_score = ',acF)\n",
    "print('f1_score = ',f1F)\n",
    "print('roc_auc_score = ',arF)"
   ]
  },
  {
   "cell_type": "code",
   "execution_count": 287,
   "metadata": {},
   "outputs": [],
   "source": [
    "Logistic_model =  LogisticRegression(random_state=12345, class_weight = 'balanced')\n",
    "Logistic_model.fit(priznak_teach, target_teach)\n",
    "prognos_valid = Logistic_model.predict(priznak_valid)"
   ]
  },
  {
   "cell_type": "code",
   "execution_count": 288,
   "metadata": {},
   "outputs": [
    {
     "name": "stdout",
     "output_type": "stream",
     "text": [
      "accuracy_score =  0.6595373199476211\n",
      "f1_score =  0.4444444444444444\n",
      "roc_auc_score =  0.662720354821744\n"
     ]
    }
   ],
   "source": [
    "acL = accuracy_score(target_valid, prognos_valid)\n",
    "f1L = f1_score(target_valid, prognos_valid)\n",
    "arL = roc_auc_score(target_valid, prognos_valid)\n",
    "print('accuracy_score = ',acL)\n",
    "print('f1_score = ',f1L)\n",
    "print('roc_auc_score = ',arL)"
   ]
  },
  {
   "cell_type": "markdown",
   "metadata": {},
   "source": [
    "Дерево и лес даже ухудшились, но оччень незначительно. Логистика улучшилась заметно но как была хуже всех так и осталась. Лидер по прежнему лес. Попробуем сбалансировать при помощи upsampling."
   ]
  },
  {
   "cell_type": "markdown",
   "metadata": {},
   "source": [
    "Делим датасет на нули и единицы по целевому."
   ]
  },
  {
   "cell_type": "code",
   "execution_count": 289,
   "metadata": {},
   "outputs": [
    {
     "name": "stdout",
     "output_type": "stream",
     "text": [
      "(4689, 11)\n",
      "(1201, 11)\n",
      "(4689,)\n",
      "(1201,)\n",
      "0.2039049235993209\n",
      "0.2039049235993209\n"
     ]
    }
   ],
   "source": [
    "priznak_zeros = priznak_teach[target_teach == 0]\n",
    "priznak_ones = priznak_teach[target_teach == 1]\n",
    "target_zeros = target_teach[target_teach == 0]\n",
    "target_ones = target_teach[target_teach == 1]\n",
    "print(priznak_zeros.shape)\n",
    "print(priznak_ones.shape)\n",
    "print(target_zeros.shape)\n",
    "print(target_ones.shape)\n",
    "print(target_ones.shape[0]/(target_ones.shape[0]+target_zeros.shape[0]))\n",
    "print(priznak_ones.shape[0]/(priznak_ones.shape[0]+priznak_zeros.shape[0]))"
   ]
  },
  {
   "cell_type": "markdown",
   "metadata": {},
   "source": [
    "Увеличиваем количество единиц так, что бы количество единиц и нулей примерно было равно."
   ]
  },
  {
   "cell_type": "code",
   "execution_count": 290,
   "metadata": {},
   "outputs": [
    {
     "data": {
      "text/plain": [
       "0.5060570947013588"
      ]
     },
     "execution_count": 290,
     "metadata": {},
     "output_type": "execute_result"
    }
   ],
   "source": [
    "repeat = 4\n",
    "new_priznak = pd.concat([priznak_zeros] + [priznak_ones] * repeat)\n",
    "new_target = pd.concat([target_zeros] + [target_ones] * repeat)\n",
    "new_target.mean()"
   ]
  },
  {
   "cell_type": "markdown",
   "metadata": {},
   "source": [
    "Перемешаем"
   ]
  },
  {
   "cell_type": "code",
   "execution_count": 291,
   "metadata": {},
   "outputs": [],
   "source": [
    "new_priznak, new_target = shuffle(new_priznak, new_target, random_state=12345)"
   ]
  },
  {
   "cell_type": "markdown",
   "metadata": {},
   "source": [
    "Снова обучимся."
   ]
  },
  {
   "cell_type": "code",
   "execution_count": 292,
   "metadata": {},
   "outputs": [],
   "source": [
    "Tree_model =  DecisionTreeClassifier(random_state=12345)\n",
    "Tree_model.fit(new_priznak, new_target)\n",
    "prognos_valid = Tree_model.predict(priznak_valid)"
   ]
  },
  {
   "cell_type": "code",
   "execution_count": 293,
   "metadata": {},
   "outputs": [
    {
     "name": "stdout",
     "output_type": "stream",
     "text": [
      "accuracy_score =  0.8088171104321257\n",
      "f1_score =  0.5360169491525424\n",
      "roc_auc_score =  0.709474435553552\n"
     ]
    }
   ],
   "source": [
    "acT = accuracy_score(target_valid, prognos_valid)\n",
    "f1T = f1_score(target_valid, prognos_valid)\n",
    "arT = roc_auc_score(target_valid, prognos_valid)\n",
    "print('accuracy_score = ',acT)\n",
    "print('f1_score = ',f1T)\n",
    "print('roc_auc_score = ',arT)"
   ]
  },
  {
   "cell_type": "code",
   "execution_count": 294,
   "metadata": {},
   "outputs": [],
   "source": [
    "Forest_model =  RandomForestClassifier(random_state=12345)\n",
    "Forest_model.fit(new_priznak, new_target)\n",
    "prognos_valid = Forest_model.predict(priznak_valid)"
   ]
  },
  {
   "cell_type": "code",
   "execution_count": 295,
   "metadata": {},
   "outputs": [
    {
     "name": "stdout",
     "output_type": "stream",
     "text": [
      "accuracy_score =  0.8511567001309471\n",
      "f1_score =  0.6039488966318235\n",
      "roc_auc_score =  0.7416401348660732\n"
     ]
    }
   ],
   "source": [
    "acF = accuracy_score(target_valid, prognos_valid)\n",
    "f1F = f1_score(target_valid, prognos_valid)\n",
    "arF = roc_auc_score(target_valid, prognos_valid)\n",
    "print('accuracy_score = ',acF)\n",
    "print('f1_score = ',f1F)\n",
    "print('roc_auc_score = ',arF)"
   ]
  },
  {
   "cell_type": "code",
   "execution_count": 296,
   "metadata": {},
   "outputs": [],
   "source": [
    "Logistic_model =  LogisticRegression(random_state=12345)\n",
    "Logistic_model.fit(new_priznak, new_target)\n",
    "prognos_valid = Logistic_model.predict(priznak_valid)"
   ]
  },
  {
   "cell_type": "code",
   "execution_count": 297,
   "metadata": {},
   "outputs": [
    {
     "name": "stdout",
     "output_type": "stream",
     "text": [
      "accuracy_score =  0.6529899607158446\n",
      "f1_score =  0.44288717589348287\n",
      "roc_auc_score =  0.6617946767346631\n"
     ]
    }
   ],
   "source": [
    "acL = accuracy_score(target_valid, prognos_valid)\n",
    "f1L = f1_score(target_valid, prognos_valid)\n",
    "arL = roc_auc_score(target_valid, prognos_valid)\n",
    "print('accuracy_score = ',acL)\n",
    "print('f1_score = ',f1L)\n",
    "print('roc_auc_score = ',arL)"
   ]
  },
  {
   "cell_type": "markdown",
   "metadata": {},
   "source": [
    "Логистика почти не изменилась. Дерево немного улучшилось. Лес тоже, но вот его площадь почему то уменьшилась. И вот что с этим делать? Ну целевая метрика f1, поэтому будем считать что стало лучше...  "
   ]
  },
  {
   "cell_type": "markdown",
   "metadata": {},
   "source": [
    "Выбираем с текущим балансом дерево. Подберем для него max_depth и n_estimators."
   ]
  },
  {
   "cell_type": "markdown",
   "metadata": {},
   "source": [
    "Эта ячейка закоментирована для того, что бы не пришлось ждать долго. "
   ]
  },
  {
   "cell_type": "code",
   "execution_count": 298,
   "metadata": {
    "scrolled": false
   },
   "outputs": [
    {
     "name": "stdout",
     "output_type": "stream",
     "text": [
      "Best max_depth= 13\n",
      "Best n_estimators= 33\n",
      "Best F1= 0.6282722513089006\n",
      "Best accuracy= 0.8450458315146224\n",
      "Best roc_auc_score= 0.7696640557496525\n"
     ]
    }
   ],
   "source": [
    "class weather2():\n",
    "    '''storyes = pd.DataFrame(columns = [ 'Depth', 'Est', 'Accuracy', 'F1', 'AUC-ROC' ])\n",
    "    max_f1 = 0\n",
    "    best_d = 0\n",
    "    best_est = 0\n",
    "    for depth in range(3,18):\n",
    "        for est in range(2,38):\n",
    "            Forest_model =  RandomForestClassifier(random_state=12345, max_depth = depth, n_estimators=est)\n",
    "            Forest_model.fit(new_priznak, new_target)\n",
    "            prognos_valid = Forest_model.predict(priznak_valid)\n",
    "            ac = accuracy_score(target_valid, prognos_valid)\n",
    "            f1 = f1_score(target_valid, prognos_valid)\n",
    "            ar = roc_auc_score(target_valid, prognos_valid)\n",
    "            storyes.loc[len(storyes.index)] = [depth,est,ac, f1, ar]\n",
    "            if f1>max_f1:\n",
    "                best_d = depth\n",
    "                best_est = est\n",
    "                max_f1 = f1\n",
    "    Forest_model =  RandomForestClassifier(random_state=12345, max_depth = best_d, n_estimators=best_est)\n",
    "    Forest_model.fit(new_priznak, new_target)\n",
    "    prognos_valid = Forest_model.predict(priznak_valid)\n",
    "    print('Best max_depth=', best_d)\n",
    "    print('Best n_estimators=', best_est)\n",
    "    print('Best F1=',f1_score(target_valid, prognos_valid))\n",
    "    print('Best accuracy=',accuracy_score(target_valid, prognos_valid))\n",
    "    print('Best roc_auc_score=',roc_auc_score(target_valid, prognos_valid))'''"
   ]
  },
  {
   "cell_type": "code",
   "execution_count": 299,
   "metadata": {},
   "outputs": [
    {
     "data": {
      "image/png": "[encoded data removed]",
      "text/plain": [
       "<Figure size 1080x720 with 1 Axes>"
      ]
     },
     "metadata": {
      "needs_background": "light"
     },
     "output_type": "display_data"
    }
   ],
   "source": [
    "storyes[['Accuracy', 'F1', 'AUC-ROC']].plot(figsize=(15,10), grid = True);"
   ]
  },
  {
   "cell_type": "markdown",
   "metadata": {},
   "source": [
    "Из графика видно, что все показатели вышли на плато. Дальнейшее увелличение этих параметров вряд ли имеет смысл.  \n",
    "max_depth = 13  \n",
    "n_estimators = 33"
   ]
  },
  {
   "cell_type": "markdown",
   "metadata": {},
   "source": [
    "### Тестирование."
   ]
  },
  {
   "cell_type": "markdown",
   "metadata": {},
   "source": [
    "Обучаем модель с нужными параметрами и обучаем на сбалансированной выборке и делаем прогноз для тестовой выборки."
   ]
  },
  {
   "cell_type": "code",
   "execution_count": 300,
   "metadata": {},
   "outputs": [],
   "source": [
    "Forest_model =  RandomForestClassifier(random_state=12345, max_depth = 13, n_estimators=33)\n",
    "Forest_model.fit(new_priznak, new_target)\n",
    "prognos_test = Forest_model.predict(priznak_test)"
   ]
  },
  {
   "cell_type": "markdown",
   "metadata": {},
   "source": [
    "Смотрим результаты."
   ]
  },
  {
   "cell_type": "code",
   "execution_count": 301,
   "metadata": {},
   "outputs": [
    {
     "name": "stdout",
     "output_type": "stream",
     "text": [
      "Test F1= 0.6091644204851753\n",
      "Test accuracy= 0.8406593406593407\n",
      "Test roc_auc_score= 0.7540396839541377\n"
     ]
    }
   ],
   "source": [
    "print('Test F1=',f1_score(target_test, prognos_test))\n",
    "print('Test accuracy=',accuracy_score(target_test, prognos_test))\n",
    "print('Test roc_auc_score=',roc_auc_score(target_test, prognos_test))"
   ]
  },
  {
   "cell_type": "markdown",
   "metadata": {},
   "source": [
    "Показатели немного пониже, но очень близки к показателям на валидационной выборке. Модель адекватная. Ура)"
   ]
  },
  {
   "cell_type": "code",
   "execution_count": null,
   "metadata": {},
   "outputs": [],
   "source": []
  }
 ],
 "metadata": {
  "ExecuteTimeLog": [
   {
    "duration": 1875,
    "start_time": "2023-04-17T20:04:48.658Z"
   },
   {
    "duration": 492,
    "start_time": "2023-04-17T20:04:51.859Z"
   },
   {
    "duration": 17,
    "start_time": "2023-04-17T20:04:52.914Z"
   },
   {
    "duration": 11,
    "start_time": "2023-04-17T20:04:53.492Z"
   },
   {
    "duration": 9,
    "start_time": "2023-04-17T20:04:54.295Z"
   },
   {
    "duration": 8,
    "start_time": "2023-04-17T20:04:54.530Z"
   },
   {
    "duration": 28,
    "start_time": "2023-04-17T20:04:55.492Z"
   },
   {
    "duration": 16,
    "start_time": "2023-04-17T20:04:55.825Z"
   },
   {
    "duration": 21,
    "start_time": "2023-04-17T20:04:56.494Z"
   },
   {
    "duration": 8830,
    "start_time": "2023-04-17T20:04:56.847Z"
   },
   {
    "duration": 922,
    "start_time": "2023-04-17T20:05:05.679Z"
   },
   {
    "duration": 20,
    "start_time": "2023-04-17T20:05:06.603Z"
   },
   {
    "duration": 32,
    "start_time": "2023-04-17T20:05:06.626Z"
   },
   {
    "duration": 125,
    "start_time": "2023-04-17T20:05:12.351Z"
   },
   {
    "duration": 113,
    "start_time": "2023-04-17T20:05:22.992Z"
   },
   {
    "duration": 19,
    "start_time": "2023-04-17T20:05:27.342Z"
   },
   {
    "duration": 605,
    "start_time": "2023-04-17T20:05:38.258Z"
   }
  ],
  "kernelspec": {
   "display_name": "Python 3 (ipykernel)",
   "language": "python",
   "name": "python3"
  },
  "language_info": {
   "codemirror_mode": {
    "name": "ipython",
    "version": 3
   },
   "file_extension": ".py",
   "mimetype": "text/x-python",
   "name": "python",
   "nbconvert_exporter": "python",
   "pygments_lexer": "ipython3",
   "version": "3.9.12"
  },
  "toc": {
   "base_numbering": 1,
   "nav_menu": {},
   "number_sections": true,
   "sideBar": true,
   "skip_h1_title": true,
   "title_cell": "Содержание",
   "title_sidebar": "Contents",
   "toc_cell": true,
   "toc_position": {
    "height": "calc(100% - 180px)",
    "left": "10px",
    "top": "150px",
    "width": "165px"
   },
   "toc_section_display": true,
   "toc_window_display": true
  }
 },
 "nbformat": 4,
 "nbformat_minor": 2
}
